{
 "cells": [
  {
   "cell_type": "markdown",
   "metadata": {},
   "source": [
    "# 가정방법추론\n",
    "\n",
    "중앙 -> x_bar<br>\n",
    "spread -> chi-s<br>\n",
    "\n",
    "median,IQR같은 경우는 확률분포함수를 가지고 있지 않다.<br>\n",
    "비모수 : 내가 사용하는 확률분포함수를 모르고 있을 때, 데이터를 얻기 힘들 때<br>\n",
    "Dist-Free test"
   ]
  },
  {
   "cell_type": "markdown",
   "metadata": {},
   "source": [
    "* 18년 미세먼지 히스토그램그리기\n"
   ]
  }
 ],
 "metadata": {
  "kernelspec": {
   "display_name": "Python 3",
   "language": "python",
   "name": "python3"
  },
  "language_info": {
   "codemirror_mode": {
    "name": "ipython",
    "version": 3
   },
   "file_extension": ".py",
   "mimetype": "text/x-python",
   "name": "python",
   "nbconvert_exporter": "python",
   "pygments_lexer": "ipython3",
   "version": "3.7.1"
  }
 },
 "nbformat": 4,
 "nbformat_minor": 2
}
