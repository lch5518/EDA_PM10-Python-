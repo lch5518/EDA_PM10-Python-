{
 "cells": [
  {
   "cell_type": "markdown",
   "metadata": {},
   "source": [
    "* 다음시간 전까지.."
   ]
  },
  {
   "cell_type": "code",
   "execution_count": 5,
   "metadata": {},
   "outputs": [],
   "source": [
    "import scipy.stats as st\n",
    "import numpy as np\n",
    "from numpy import exp\n",
    "from scipy.special import factorial\n",
    "import matplotlib.pyplot as plt\n",
    "%matplotlib inline\n",
    "\n",
    "def mle_norm(mu,s,n):\n",
    "    x = st.poisson.rvs(mu = mu, size = n)\n",
    "    #여기를 수정..\n",
    "    poisson_pmf = lambda y,mu:mu**y / factorial(y) * exp(-mu)\n",
    "    y_values = np.array(0,mu*3)\n",
    "\n",
    "    fig, ax = plt.subplots(figsize=(12,8))\n",
    "\n",
    "    for mu in [mu*0.8,mu,mu*1.2]:\n",
    "        distribution = []\n",
    "        for y_i in y_values:\n",
    "            distribution.append(poisson_pmf(y_i,mu))\n",
    "        ax.plot(y_values,\n",
    "               distribution,\n",
    "               label = f'$\\mu$={mu}',\n",
    "               alpha = 0.5,\n",
    "               marker = 'o',\n",
    "               markersize=8)\n",
    "    plt.hist(x,density=True,bins = 20)\n",
    "    ax.grid()\n",
    "    ax.set_xlabel('$y$',fontsize=14)\n",
    "    ax.set_ylabel('$f(y\\min/mu)$',fontsize=14)\n",
    "    ax.axis(xmin=0,ymin=0)\n",
    "    ax.legend(fontsize=14)\n",
    "    plt.show()"
   ]
  },
  {
   "cell_type": "code",
   "execution_count": 9,
   "metadata": {},
   "outputs": [
    {
     "data": {
      "text/plain": [
       "<function __main__.<lambda>(y, mu)>"
      ]
     },
     "execution_count": 9,
     "metadata": {},
     "output_type": "execute_result"
    }
   ],
   "source": [
    "mu = 10\n",
    "lambda y,mu:mu**y / factorial(y) * exp(-mu)"
   ]
  },
  {
   "cell_type": "code",
   "execution_count": 10,
   "metadata": {},
   "outputs": [
    {
     "ename": "NameError",
     "evalue": "name 'mle_norm' is not defined",
     "output_type": "error",
     "traceback": [
      "\u001b[1;31m---------------------------------------------------------------------------\u001b[0m",
      "\u001b[1;31mNameError\u001b[0m                                 Traceback (most recent call last)",
      "\u001b[1;32m<ipython-input-10-67081cb21d7a>\u001b[0m in \u001b[0;36m<module>\u001b[1;34m\u001b[0m\n\u001b[1;32m----> 1\u001b[1;33m \u001b[0mmle_norm\u001b[0m\u001b[1;33m(\u001b[0m\u001b[1;36m10\u001b[0m\u001b[1;33m,\u001b[0m\u001b[1;36m3\u001b[0m\u001b[1;33m,\u001b[0m\u001b[1;36m500\u001b[0m\u001b[1;33m)\u001b[0m\u001b[1;33m\u001b[0m\u001b[1;33m\u001b[0m\u001b[0m\n\u001b[0m",
      "\u001b[1;31mNameError\u001b[0m: name 'mle_norm' is not defined"
     ]
    }
   ],
   "source": [
    "mle_norm(10,3,500)"
   ]
  },
  {
   "cell_type": "code",
   "execution_count": 11,
   "metadata": {},
   "outputs": [],
   "source": [
    "from scipy.stats import gamma\n",
    "a = 2; s =0.5\n",
    "y=gamma.rvs(a=a,scale=s, size=1000)  #Gamma(2,0.5) size=1000"
   ]
  },
  {
   "cell_type": "code",
   "execution_count": 12,
   "metadata": {},
   "outputs": [
    {
     "data": {
      "image/png": "[encoded data removed]",
      "text/plain": [
       "<Figure size 432x288 with 1 Axes>"
      ]
     },
     "metadata": {
      "needs_background": "light"
     },
     "output_type": "display_data"
    }
   ],
   "source": [
    "import matplotlib.pyplot as plt\n",
    "import numpy as np\n",
    "fig, ax = plt.subplots(1, 1)\n",
    "\n",
    "x = np.linspace(gamma.ppf(0.001,a=a,scale=s), gamma.ppf(0.999,a=a,scale=s), 100)\n",
    "ax.set_title('Population PDF & Histigram of Generating data')\n",
    "ax.plot(x, gamma.pdf(x,a=a,scale=s), 'r-', lw=2, alpha=0.6, label='Gamma pdf('+str(a)+', '+str(s)+')')\n",
    "ax.hist(y, density=True, histtype='stepfilled', alpha=0.2)\n",
    "ax.legend(loc='best', frameon=False)\n",
    "plt.show()"
   ]
  }
 ],
 "metadata": {
  "kernelspec": {
   "display_name": "Python 3",
   "language": "python",
   "name": "python3"
  },
  "language_info": {
   "codemirror_mode": {
    "name": "ipython",
    "version": 3
   },
   "file_extension": ".py",
   "mimetype": "text/x-python",
   "name": "python",
   "nbconvert_exporter": "python",
   "pygments_lexer": "ipython3",
   "version": "3.7.1"
  }
 },
 "nbformat": 4,
 "nbformat_minor": 2
}
