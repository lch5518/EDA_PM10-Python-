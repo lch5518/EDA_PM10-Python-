{
 "cells": [
  {
   "cell_type": "markdown",
   "metadata": {},
   "source": [
    "# 미세먼지 데이터분석\n",
    "#### - DataFrame Handling\n",
    "#### - BoxPlot그려보기"
   ]
  },
  {
   "cell_type": "code",
   "execution_count": 3,
   "metadata": {},
   "outputs": [],
   "source": [
    "import pandas as pd\n",
    "import io\n",
    "import requests\n",
    "import matplotlib.pyplot as plt\n",
    "import numpy as np"
   ]
  },
  {
   "cell_type": "markdown",
   "metadata": {},
   "source": [
    "* 인터넷에서 다운로드"
   ]
  },
  {
   "cell_type": "code",
   "execution_count": null,
   "metadata": {},
   "outputs": [],
   "source": [
    "mise15Q1 = 'http://wolfpack.hnu.ac.kr/Stat_Notes/example_data/mise/2015Q1.csv'\n",
    "mise15Q2 = 'http://wolfpack.hnu.ac.kr/Stat_Notes/example_data/mise/2015Q2.csv'\n",
    "mise15Q3 = 'http://wolfpack.hnu.ac.kr/Stat_Notes/example_data/mise/2015Q3.csv'\n",
    "mise15Q4 = 'http://wolfpack.hnu.ac.kr/Stat_Notes/example_data/mise/2015Q4.csv'\n",
    "\n",
    "mise16Q1 = 'http://wolfpack.hnu.ac.kr/Stat_Notes/example_data/mise/2016Q1.csv'\n",
    "mise16Q2 = 'http://wolfpack.hnu.ac.kr/Stat_Notes/example_data/mise/2016Q2.csv'\n",
    "mise16Q3 = 'http://wolfpack.hnu.ac.kr/Stat_Notes/example_data/mise/2016Q3.csv'\n",
    "mise16Q4 = 'http://wolfpack.hnu.ac.kr/Stat_Notes/example_data/mise/2016Q4.csv'\n",
    "\n",
    "mise17Q1 = 'http://wolfpack.hnu.ac.kr/Stat_Notes/example_data/mise/2017Q1.csv'\n",
    "mise17Q2 = 'http://wolfpack.hnu.ac.kr/Stat_Notes/example_data/mise/2017Q2.csv'\n",
    "mise17Q3 = 'http://wolfpack.hnu.ac.kr/Stat_Notes/example_data/mise/2017Q3.csv'\n",
    "mise17Q4 = 'http://wolfpack.hnu.ac.kr/Stat_Notes/example_data/mise/2017Q4.csv'\n",
    "\n",
    "mise18Q1 = 'http://wolfpack.hnu.ac.kr/Stat_Notes/example_data/mise/2018Q1.csv'\n",
    "mise18Q2 = 'http://wolfpack.hnu.ac.kr/Stat_Notes/example_data/mise/2018Q2.csv'\n",
    "mise18Q3 = 'http://wolfpack.hnu.ac.kr/Stat_Notes/example_data/mise/2018Q3.csv'\n",
    "mise18Q4 = 'http://wolfpack.hnu.ac.kr/Stat_Notes/example_data/mise/2018Q4.csv'"
   ]
  },
  {
   "cell_type": "code",
   "execution_count": null,
   "metadata": {},
   "outputs": [],
   "source": [
    "m151 = requests.get(mise15Q1).content\n",
    "m152 = requests.get(mise15Q2).content\n",
    "m153 = requests.get(mise15Q3).content\n",
    "m154 = requests.get(mise15Q4).content\n",
    "\n",
    "m161 = requests.get(mise16Q1).content\n",
    "m162 = requests.get(mise16Q2).content\n",
    "m163 = requests.get(mise16Q3).content\n",
    "m164 = requests.get(mise16Q4).content\n",
    "\n",
    "m171 = requests.get(mise17Q1).content\n",
    "m172 = requests.get(mise17Q2).content\n",
    "m173 = requests.get(mise17Q3).content\n",
    "m174 = requests.get(mise17Q4).content\n",
    "\n",
    "m181 = requests.get(mise18Q1).content\n",
    "m182 = requests.get(mise18Q2).content\n",
    "m183 = requests.get(mise18Q3).content\n",
    "m184 = requests.get(mise18Q4).content"
   ]
  },
  {
   "cell_type": "code",
   "execution_count": 4,
   "metadata": {},
   "outputs": [
    {
     "ename": "NameError",
     "evalue": "name 'm151' is not defined",
     "output_type": "error",
     "traceback": [
      "\u001b[1;31m---------------------------------------------------------------------------\u001b[0m",
      "\u001b[1;31mNameError\u001b[0m                                 Traceback (most recent call last)",
      "\u001b[1;32m<ipython-input-4-8b64df3d6751>\u001b[0m in \u001b[0;36m<module>\u001b[1;34m()\u001b[0m\n\u001b[1;32m----> 1\u001b[1;33m \u001b[0mpm_151\u001b[0m\u001b[1;33m=\u001b[0m\u001b[0mpd\u001b[0m\u001b[1;33m.\u001b[0m\u001b[0mread_csv\u001b[0m\u001b[1;33m(\u001b[0m\u001b[0mio\u001b[0m\u001b[1;33m.\u001b[0m\u001b[0mStringIO\u001b[0m\u001b[1;33m(\u001b[0m\u001b[0mm151\u001b[0m\u001b[1;33m.\u001b[0m\u001b[0mdecode\u001b[0m\u001b[1;33m(\u001b[0m\u001b[1;34m'utf-8'\u001b[0m\u001b[1;33m)\u001b[0m\u001b[1;33m)\u001b[0m\u001b[1;33m)\u001b[0m\u001b[1;33m\u001b[0m\u001b[0m\n\u001b[0m\u001b[0;32m      2\u001b[0m \u001b[0mpm_152\u001b[0m\u001b[1;33m=\u001b[0m\u001b[0mpd\u001b[0m\u001b[1;33m.\u001b[0m\u001b[0mread_csv\u001b[0m\u001b[1;33m(\u001b[0m\u001b[0mio\u001b[0m\u001b[1;33m.\u001b[0m\u001b[0mStringIO\u001b[0m\u001b[1;33m(\u001b[0m\u001b[0mm152\u001b[0m\u001b[1;33m.\u001b[0m\u001b[0mdecode\u001b[0m\u001b[1;33m(\u001b[0m\u001b[1;34m'utf-8'\u001b[0m\u001b[1;33m)\u001b[0m\u001b[1;33m)\u001b[0m\u001b[1;33m)\u001b[0m\u001b[1;33m\u001b[0m\u001b[0m\n\u001b[0;32m      3\u001b[0m \u001b[0mpm_153\u001b[0m\u001b[1;33m=\u001b[0m\u001b[0mpd\u001b[0m\u001b[1;33m.\u001b[0m\u001b[0mread_csv\u001b[0m\u001b[1;33m(\u001b[0m\u001b[0mio\u001b[0m\u001b[1;33m.\u001b[0m\u001b[0mStringIO\u001b[0m\u001b[1;33m(\u001b[0m\u001b[0mm153\u001b[0m\u001b[1;33m.\u001b[0m\u001b[0mdecode\u001b[0m\u001b[1;33m(\u001b[0m\u001b[1;34m'utf-8'\u001b[0m\u001b[1;33m)\u001b[0m\u001b[1;33m)\u001b[0m\u001b[1;33m)\u001b[0m\u001b[1;33m\u001b[0m\u001b[0m\n\u001b[0;32m      4\u001b[0m \u001b[0mpm_154\u001b[0m\u001b[1;33m=\u001b[0m\u001b[0mpd\u001b[0m\u001b[1;33m.\u001b[0m\u001b[0mread_csv\u001b[0m\u001b[1;33m(\u001b[0m\u001b[0mio\u001b[0m\u001b[1;33m.\u001b[0m\u001b[0mStringIO\u001b[0m\u001b[1;33m(\u001b[0m\u001b[0mm154\u001b[0m\u001b[1;33m.\u001b[0m\u001b[0mdecode\u001b[0m\u001b[1;33m(\u001b[0m\u001b[1;34m'utf-8'\u001b[0m\u001b[1;33m)\u001b[0m\u001b[1;33m)\u001b[0m\u001b[1;33m)\u001b[0m\u001b[1;33m\u001b[0m\u001b[0m\n\u001b[0;32m      5\u001b[0m \u001b[1;33m\u001b[0m\u001b[0m\n",
      "\u001b[1;31mNameError\u001b[0m: name 'm151' is not defined"
     ]
    }
   ],
   "source": [
    "pm_151=pd.read_csv(io.StringIO(m151.decode('utf-8')))\n",
    "pm_152=pd.read_csv(io.StringIO(m152.decode('utf-8')))\n",
    "pm_153=pd.read_csv(io.StringIO(m153.decode('utf-8')))\n",
    "pm_154=pd.read_csv(io.StringIO(m154.decode('utf-8')))\n",
    "\n",
    "pm_161=pd.read_csv(io.StringIO(m161.decode('utf-8')))\n",
    "pm_162=pd.read_csv(io.StringIO(m162.decode('utf-8')))\n",
    "pm_163=pd.read_csv(io.StringIO(m163.decode('utf-8')))\n",
    "pm_164=pd.read_csv(io.StringIO(m164.decode('utf-8')))\n",
    "\n",
    "pm_171=pd.read_csv(io.StringIO(m171.decode('utf-8')))\n",
    "pm_172=pd.read_csv(io.StringIO(m172.decode('utf-8')))\n",
    "pm_173=pd.read_csv(io.StringIO(m173.decode('utf-8')))\n",
    "pm_174=pd.read_csv(io.StringIO(m174.decode('utf-8')))\n",
    "\n",
    "pm_181=pd.read_csv(io.StringIO(m181.decode('utf-8')))\n",
    "pm_182=pd.read_csv(io.StringIO(m182.decode('utf-8')))\n",
    "pm_183=pd.read_csv(io.StringIO(m183.decode('utf-8')))\n",
    "pm_184=pd.read_csv(io.StringIO(m184.decode('utf-8')))"
   ]
  },
  {
   "cell_type": "markdown",
   "metadata": {},
   "source": [
    " * 디렉토리에 csv파일이 있을 경우"
   ]
  },
  {
   "cell_type": "code",
   "execution_count": 6,
   "metadata": {},
   "outputs": [],
   "source": [
    "mise15Q1 = 'D:\\4학년1학기\\탐색적데이터분석\\2015Q1.csv'\n",
    "mise15Q2 = 'D:\\4학년1학기\\탐색적데이터분석\\2015Q2.csv'\n",
    "mise15Q3 = 'D:\\4학년1학기\\탐색적데이터분석\\2015Q3.csv'\n",
    "mise15Q4 = 'D:\\4학년1학기\\탐색적데이터분석\\2015Q4.csv'\n",
    "\n",
    "mise16Q1 = 'D:\\4학년1학기\\탐색적데이터분석\\2016Q1.csv'\n",
    "mise16Q2 = 'D:\\4학년1학기\\탐색적데이터분석\\2016Q2.csv'\n",
    "mise16Q3 = 'D:\\4학년1학기\\탐색적데이터분석\\2016Q3.csv'\n",
    "mise16Q4 = 'D:\\4학년1학기\\탐색적데이터분석\\2016Q4.csv'\n",
    "\n",
    "mise17Q1 = 'D:\\4학년1학기\\탐색적데이터분석\\2017Q1.csv'\n",
    "mise17Q2 = 'D:\\4학년1학기\\탐색적데이터분석\\2017Q2.csv'\n",
    "mise17Q3 = 'D:\\4학년1학기\\탐색적데이터분석\\2017Q3.csv'\n",
    "mise17Q4 = 'D:\\4학년1학기\\탐색적데이터분석\\2017Q4.csv'\n",
    "\n",
    "mise18Q1 = 'D:\\4학년1학기\\탐색적데이터분석\\2018Q1.csv'\n",
    "mise18Q2 = 'D:\\4학년1학기\\탐색적데이터분석\\2018Q2.csv'\n",
    "mise18Q3 = 'D:\\4학년1학기\\탐색적데이터분석\\2018Q3.csv'\n",
    "mise18Q4 = 'D:\\4학년1학기\\탐색적데이터분석\\2018Q4.csv'"
   ]
  },
  {
   "cell_type": "code",
   "execution_count": 7,
   "metadata": {},
   "outputs": [
    {
     "ename": "FileNotFoundError",
     "evalue": "File b'2015Q1.csv' does not exist",
     "output_type": "error",
     "traceback": [
      "\u001b[1;31m---------------------------------------------------------------------------\u001b[0m",
      "\u001b[1;31mFileNotFoundError\u001b[0m                         Traceback (most recent call last)",
      "\u001b[1;32m<ipython-input-7-46b2a113a63c>\u001b[0m in \u001b[0;36m<module>\u001b[1;34m()\u001b[0m\n\u001b[1;32m----> 1\u001b[1;33m \u001b[0mpm_151\u001b[0m\u001b[1;33m=\u001b[0m\u001b[0mpd\u001b[0m\u001b[1;33m.\u001b[0m\u001b[0mread_csv\u001b[0m\u001b[1;33m(\u001b[0m\u001b[1;34m'2015Q1.csv'\u001b[0m\u001b[1;33m)\u001b[0m\u001b[1;33m\u001b[0m\u001b[0m\n\u001b[0m\u001b[0;32m      2\u001b[0m \u001b[0mpm_152\u001b[0m\u001b[1;33m=\u001b[0m\u001b[0mpd\u001b[0m\u001b[1;33m.\u001b[0m\u001b[0mread_csv\u001b[0m\u001b[1;33m(\u001b[0m\u001b[1;34m'2015Q2.csv'\u001b[0m\u001b[1;33m)\u001b[0m\u001b[1;33m\u001b[0m\u001b[0m\n\u001b[0;32m      3\u001b[0m \u001b[0mpm_153\u001b[0m\u001b[1;33m=\u001b[0m\u001b[0mpd\u001b[0m\u001b[1;33m.\u001b[0m\u001b[0mread_csv\u001b[0m\u001b[1;33m(\u001b[0m\u001b[1;34m'2015Q3.csv'\u001b[0m\u001b[1;33m)\u001b[0m\u001b[1;33m\u001b[0m\u001b[0m\n\u001b[0;32m      4\u001b[0m \u001b[0mpm_154\u001b[0m\u001b[1;33m=\u001b[0m\u001b[0mpd\u001b[0m\u001b[1;33m.\u001b[0m\u001b[0mread_csv\u001b[0m\u001b[1;33m(\u001b[0m\u001b[1;34m'2015Q4.csv'\u001b[0m\u001b[1;33m)\u001b[0m\u001b[1;33m\u001b[0m\u001b[0m\n\u001b[0;32m      5\u001b[0m \u001b[1;33m\u001b[0m\u001b[0m\n",
      "\u001b[1;32m~\\Anaconda3\\lib\\site-packages\\pandas\\io\\parsers.py\u001b[0m in \u001b[0;36mparser_f\u001b[1;34m(filepath_or_buffer, sep, delimiter, header, names, index_col, usecols, squeeze, prefix, mangle_dupe_cols, dtype, engine, converters, true_values, false_values, skipinitialspace, skiprows, nrows, na_values, keep_default_na, na_filter, verbose, skip_blank_lines, parse_dates, infer_datetime_format, keep_date_col, date_parser, dayfirst, iterator, chunksize, compression, thousands, decimal, lineterminator, quotechar, quoting, escapechar, comment, encoding, dialect, tupleize_cols, error_bad_lines, warn_bad_lines, skipfooter, doublequote, delim_whitespace, low_memory, memory_map, float_precision)\u001b[0m\n\u001b[0;32m    676\u001b[0m                     skip_blank_lines=skip_blank_lines)\n\u001b[0;32m    677\u001b[0m \u001b[1;33m\u001b[0m\u001b[0m\n\u001b[1;32m--> 678\u001b[1;33m         \u001b[1;32mreturn\u001b[0m \u001b[0m_read\u001b[0m\u001b[1;33m(\u001b[0m\u001b[0mfilepath_or_buffer\u001b[0m\u001b[1;33m,\u001b[0m \u001b[0mkwds\u001b[0m\u001b[1;33m)\u001b[0m\u001b[1;33m\u001b[0m\u001b[0m\n\u001b[0m\u001b[0;32m    679\u001b[0m \u001b[1;33m\u001b[0m\u001b[0m\n\u001b[0;32m    680\u001b[0m     \u001b[0mparser_f\u001b[0m\u001b[1;33m.\u001b[0m\u001b[0m__name__\u001b[0m \u001b[1;33m=\u001b[0m \u001b[0mname\u001b[0m\u001b[1;33m\u001b[0m\u001b[0m\n",
      "\u001b[1;32m~\\Anaconda3\\lib\\site-packages\\pandas\\io\\parsers.py\u001b[0m in \u001b[0;36m_read\u001b[1;34m(filepath_or_buffer, kwds)\u001b[0m\n\u001b[0;32m    438\u001b[0m \u001b[1;33m\u001b[0m\u001b[0m\n\u001b[0;32m    439\u001b[0m     \u001b[1;31m# Create the parser.\u001b[0m\u001b[1;33m\u001b[0m\u001b[1;33m\u001b[0m\u001b[0m\n\u001b[1;32m--> 440\u001b[1;33m     \u001b[0mparser\u001b[0m \u001b[1;33m=\u001b[0m \u001b[0mTextFileReader\u001b[0m\u001b[1;33m(\u001b[0m\u001b[0mfilepath_or_buffer\u001b[0m\u001b[1;33m,\u001b[0m \u001b[1;33m**\u001b[0m\u001b[0mkwds\u001b[0m\u001b[1;33m)\u001b[0m\u001b[1;33m\u001b[0m\u001b[0m\n\u001b[0m\u001b[0;32m    441\u001b[0m \u001b[1;33m\u001b[0m\u001b[0m\n\u001b[0;32m    442\u001b[0m     \u001b[1;32mif\u001b[0m \u001b[0mchunksize\u001b[0m \u001b[1;32mor\u001b[0m \u001b[0miterator\u001b[0m\u001b[1;33m:\u001b[0m\u001b[1;33m\u001b[0m\u001b[0m\n",
      "\u001b[1;32m~\\Anaconda3\\lib\\site-packages\\pandas\\io\\parsers.py\u001b[0m in \u001b[0;36m__init__\u001b[1;34m(self, f, engine, **kwds)\u001b[0m\n\u001b[0;32m    785\u001b[0m             \u001b[0mself\u001b[0m\u001b[1;33m.\u001b[0m\u001b[0moptions\u001b[0m\u001b[1;33m[\u001b[0m\u001b[1;34m'has_index_names'\u001b[0m\u001b[1;33m]\u001b[0m \u001b[1;33m=\u001b[0m \u001b[0mkwds\u001b[0m\u001b[1;33m[\u001b[0m\u001b[1;34m'has_index_names'\u001b[0m\u001b[1;33m]\u001b[0m\u001b[1;33m\u001b[0m\u001b[0m\n\u001b[0;32m    786\u001b[0m \u001b[1;33m\u001b[0m\u001b[0m\n\u001b[1;32m--> 787\u001b[1;33m         \u001b[0mself\u001b[0m\u001b[1;33m.\u001b[0m\u001b[0m_make_engine\u001b[0m\u001b[1;33m(\u001b[0m\u001b[0mself\u001b[0m\u001b[1;33m.\u001b[0m\u001b[0mengine\u001b[0m\u001b[1;33m)\u001b[0m\u001b[1;33m\u001b[0m\u001b[0m\n\u001b[0m\u001b[0;32m    788\u001b[0m \u001b[1;33m\u001b[0m\u001b[0m\n\u001b[0;32m    789\u001b[0m     \u001b[1;32mdef\u001b[0m \u001b[0mclose\u001b[0m\u001b[1;33m(\u001b[0m\u001b[0mself\u001b[0m\u001b[1;33m)\u001b[0m\u001b[1;33m:\u001b[0m\u001b[1;33m\u001b[0m\u001b[0m\n",
      "\u001b[1;32m~\\Anaconda3\\lib\\site-packages\\pandas\\io\\parsers.py\u001b[0m in \u001b[0;36m_make_engine\u001b[1;34m(self, engine)\u001b[0m\n\u001b[0;32m   1012\u001b[0m     \u001b[1;32mdef\u001b[0m \u001b[0m_make_engine\u001b[0m\u001b[1;33m(\u001b[0m\u001b[0mself\u001b[0m\u001b[1;33m,\u001b[0m \u001b[0mengine\u001b[0m\u001b[1;33m=\u001b[0m\u001b[1;34m'c'\u001b[0m\u001b[1;33m)\u001b[0m\u001b[1;33m:\u001b[0m\u001b[1;33m\u001b[0m\u001b[0m\n\u001b[0;32m   1013\u001b[0m         \u001b[1;32mif\u001b[0m \u001b[0mengine\u001b[0m \u001b[1;33m==\u001b[0m \u001b[1;34m'c'\u001b[0m\u001b[1;33m:\u001b[0m\u001b[1;33m\u001b[0m\u001b[0m\n\u001b[1;32m-> 1014\u001b[1;33m             \u001b[0mself\u001b[0m\u001b[1;33m.\u001b[0m\u001b[0m_engine\u001b[0m \u001b[1;33m=\u001b[0m \u001b[0mCParserWrapper\u001b[0m\u001b[1;33m(\u001b[0m\u001b[0mself\u001b[0m\u001b[1;33m.\u001b[0m\u001b[0mf\u001b[0m\u001b[1;33m,\u001b[0m \u001b[1;33m**\u001b[0m\u001b[0mself\u001b[0m\u001b[1;33m.\u001b[0m\u001b[0moptions\u001b[0m\u001b[1;33m)\u001b[0m\u001b[1;33m\u001b[0m\u001b[0m\n\u001b[0m\u001b[0;32m   1015\u001b[0m         \u001b[1;32melse\u001b[0m\u001b[1;33m:\u001b[0m\u001b[1;33m\u001b[0m\u001b[0m\n\u001b[0;32m   1016\u001b[0m             \u001b[1;32mif\u001b[0m \u001b[0mengine\u001b[0m \u001b[1;33m==\u001b[0m \u001b[1;34m'python'\u001b[0m\u001b[1;33m:\u001b[0m\u001b[1;33m\u001b[0m\u001b[0m\n",
      "\u001b[1;32m~\\Anaconda3\\lib\\site-packages\\pandas\\io\\parsers.py\u001b[0m in \u001b[0;36m__init__\u001b[1;34m(self, src, **kwds)\u001b[0m\n\u001b[0;32m   1706\u001b[0m         \u001b[0mkwds\u001b[0m\u001b[1;33m[\u001b[0m\u001b[1;34m'usecols'\u001b[0m\u001b[1;33m]\u001b[0m \u001b[1;33m=\u001b[0m \u001b[0mself\u001b[0m\u001b[1;33m.\u001b[0m\u001b[0musecols\u001b[0m\u001b[1;33m\u001b[0m\u001b[0m\n\u001b[0;32m   1707\u001b[0m \u001b[1;33m\u001b[0m\u001b[0m\n\u001b[1;32m-> 1708\u001b[1;33m         \u001b[0mself\u001b[0m\u001b[1;33m.\u001b[0m\u001b[0m_reader\u001b[0m \u001b[1;33m=\u001b[0m \u001b[0mparsers\u001b[0m\u001b[1;33m.\u001b[0m\u001b[0mTextReader\u001b[0m\u001b[1;33m(\u001b[0m\u001b[0msrc\u001b[0m\u001b[1;33m,\u001b[0m \u001b[1;33m**\u001b[0m\u001b[0mkwds\u001b[0m\u001b[1;33m)\u001b[0m\u001b[1;33m\u001b[0m\u001b[0m\n\u001b[0m\u001b[0;32m   1709\u001b[0m \u001b[1;33m\u001b[0m\u001b[0m\n\u001b[0;32m   1710\u001b[0m         \u001b[0mpassed_names\u001b[0m \u001b[1;33m=\u001b[0m \u001b[0mself\u001b[0m\u001b[1;33m.\u001b[0m\u001b[0mnames\u001b[0m \u001b[1;32mis\u001b[0m \u001b[1;32mNone\u001b[0m\u001b[1;33m\u001b[0m\u001b[0m\n",
      "\u001b[1;32mpandas\\_libs\\parsers.pyx\u001b[0m in \u001b[0;36mpandas._libs.parsers.TextReader.__cinit__\u001b[1;34m()\u001b[0m\n",
      "\u001b[1;32mpandas\\_libs\\parsers.pyx\u001b[0m in \u001b[0;36mpandas._libs.parsers.TextReader._setup_parser_source\u001b[1;34m()\u001b[0m\n",
      "\u001b[1;31mFileNotFoundError\u001b[0m: File b'2015Q1.csv' does not exist"
     ]
    }
   ],
   "source": [
    "pm_151=pd.read_csv('2015Q1.csv')\n",
    "pm_152=pd.read_csv('2015Q2.csv')\n",
    "pm_153=pd.read_csv('2015Q3.csv')\n",
    "pm_154=pd.read_csv('2015Q4.csv')\n",
    "\n",
    "pm_161=pd.read_csv('2016Q1.csv')\n",
    "pm_162=pd.read_csv('2016Q2.csv')\n",
    "pm_163=pd.read_csv('2016Q3.csv')\n",
    "pm_164=pd.read_csv('2016Q4.csv')\n",
    "\n",
    "pm_171=pd.read_csv('2017Q1.csv')\n",
    "pm_172=pd.read_csv('2017Q2.csv')\n",
    "pm_173=pd.read_csv('2017Q3.csv')\n",
    "pm_174=pd.read_csv('2017Q4.csv')\n",
    "\n",
    "pm_181=pd.read_csv('2018Q1.csv')\n",
    "pm_182=pd.read_csv('2018Q2.csv')\n",
    "pm_183=pd.read_csv('2018Q3.csv')\n",
    "pm_184=pd.read_csv('2018Q4.csv')\n"
   ]
  },
  {
   "cell_type": "code",
   "execution_count": 4,
   "metadata": {},
   "outputs": [],
   "source": [
    "pm10_151 = pd.DataFrame(pm_151['PM10'])\n",
    "pm10_152 = pd.DataFrame(pm_152['PM10'])\n",
    "pm10_153 = pd.DataFrame(pm_153['PM10'])\n",
    "pm10_154 = pd.DataFrame(pm_154['PM10'])\n",
    "\n",
    "pm10_161 = pd.DataFrame(pm_161['PM10'])\n",
    "pm10_162 = pd.DataFrame(pm_162['PM10'])\n",
    "pm10_163 = pd.DataFrame(pm_163['PM10'])\n",
    "pm10_164 = pd.DataFrame(pm_164['PM10'])\n",
    "\n",
    "pm10_171 = pd.DataFrame(pm_171['PM10'])\n",
    "pm10_172 = pd.DataFrame(pm_172['PM10'])\n",
    "pm10_173 = pd.DataFrame(pm_173['PM10'])\n",
    "pm10_174 = pd.DataFrame(pm_174['PM10'])\n",
    "\n",
    "pm10_181 = pd.DataFrame(pm_181['PM10'])\n",
    "pm10_182 = pd.DataFrame(pm_182['PM10'])\n",
    "pm10_183 = pd.DataFrame(pm_183['PM10'])\n",
    "pm10_184 = pd.DataFrame(pm_184['PM10'])"
   ]
  },
  {
   "cell_type": "markdown",
   "metadata": {},
   "source": [
    "* 분기-> 연도"
   ]
  },
  {
   "cell_type": "code",
   "execution_count": 5,
   "metadata": {},
   "outputs": [],
   "source": [
    "pm10_15 = pm10_151.append(pm10_152).append(pm10_153).append(pm10_154)\n",
    "pm10_16 = pm10_161.append(pm10_162).append(pm10_163).append(pm10_164)\n",
    "pm10_17 = pm10_171.append(pm10_172).append(pm10_173).append(pm10_174)\n",
    "pm10_18 = pm10_181.append(pm10_182).append(pm10_183).append(pm10_184)\n",
    "\n",
    "pm10_15 = pm10_15.rename(index=str, columns={\"PM10\": \"2015\"})\n",
    "pm10_16 = pm10_16.rename(index=str, columns={\"PM10\": \"2016\"})\n",
    "pm10_17 = pm10_17.rename(index=str, columns={\"PM10\": \"2017\"})\n",
    "pm10_18 = pm10_18.rename(index=str, columns={\"PM10\": \"2018\"})"
   ]
  },
  {
   "cell_type": "markdown",
   "metadata": {},
   "source": [
    "<br>\n",
    "* boxplot example"
   ]
  },
  {
   "cell_type": "code",
   "execution_count": null,
   "metadata": {},
   "outputs": [],
   "source": [
    "#df = pd.concat([pm10_15,pm10_16,pm10_17,pm10_18],axis=1,sort=False)"
   ]
  },
  {
   "cell_type": "code",
   "execution_count": 22,
   "metadata": {},
   "outputs": [],
   "source": [
    "def mise(n):    \n",
    "    # 데이터 샘플링(임의로 n개만 추출)\n",
    "    test15 = pm10_15.sample(n)\n",
    "    test16 = pm10_16.sample(n)\n",
    "    test17 = pm10_17.sample(n)\n",
    "    test18 = pm10_18.sample(n)\n",
    "    \n",
    "    #연도별 데이터를 테이블형식으로 합치기\n",
    "    df = pd.concat([test15,test16,test17,test18],axis=1,sort=False)\n",
    "    df.plot.box()"
   ]
  },
  {
   "cell_type": "code",
   "execution_count": 31,
   "metadata": {},
   "outputs": [
    {
     "data": {
      "image/png": "[encoded data removed]",
      "text/plain": [
       "<Figure size 432x288 with 1 Axes>"
      ]
     },
     "metadata": {},
     "output_type": "display_data"
    }
   ],
   "source": [
    "mise(100)"
   ]
  }
 ],
 "metadata": {
  "kernelspec": {
   "display_name": "Python 3",
   "language": "python",
   "name": "python3"
  },
  "language_info": {
   "codemirror_mode": {
    "name": "ipython",
    "version": 3
   },
   "file_extension": ".py",
   "mimetype": "text/x-python",
   "name": "python",
   "nbconvert_exporter": "python",
   "pygments_lexer": "ipython3",
   "version": "3.6.5"
  }
 },
 "nbformat": 4,
 "nbformat_minor": 2
}
