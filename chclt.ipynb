{
 "cells": [
  {
   "cell_type": "markdown",
   "metadata": {},
   "source": [
    "## 동전 100회"
   ]
  },
  {
   "cell_type": "markdown",
   "metadata": {},
   "source": [
    "* array와 list의 가장 큰 차이점은 행열 이름의 유무"
   ]
  },
  {
   "cell_type": "code",
   "execution_count": 4,
   "metadata": {},
   "outputs": [],
   "source": [
    "import numpy as np\n",
    "#import pandas as pd\n",
    "import random as rd\n",
    "import matplotlib.pyplot as plt\n",
    "import scipy.stats"
   ]
  },
  {
   "cell_type": "code",
   "execution_count": 120,
   "metadata": {},
   "outputs": [],
   "source": [
    "x = [0,1]"
   ]
  },
  {
   "cell_type": "markdown",
   "metadata": {},
   "source": [
    "<br>\n",
    "~B(5,0.5)"
   ]
  },
  {
   "cell_type": "code",
   "execution_count": 121,
   "metadata": {},
   "outputs": [
    {
     "data": {
      "text/plain": [
       "[1, 0, 1, 0, 1]"
      ]
     },
     "execution_count": 121,
     "metadata": {},
     "output_type": "execute_result"
    }
   ],
   "source": [
    "rd.choices(x,k = 5)"
   ]
  },
  {
   "cell_type": "markdown",
   "metadata": {},
   "source": [
    "<br>\n",
    "~B(20,0.5)<br>\n",
    "x=20일때 평균 : 20/2, 분산 : 100/4"
   ]
  },
  {
   "cell_type": "code",
   "execution_count": 122,
   "metadata": {},
   "outputs": [
    {
     "data": {
      "text/plain": [
       "[0, 0, 1, 1, 1, 0, 1, 1, 1, 0, 0, 1, 0, 1, 1, 1, 0, 1, 1, 1]"
      ]
     },
     "execution_count": 122,
     "metadata": {},
     "output_type": "execute_result"
    }
   ],
   "source": [
    "rd.choices(x,k=20)"
   ]
  },
  {
   "cell_type": "code",
   "execution_count": 11,
   "metadata": {},
   "outputs": [],
   "source": [
    "def clt(n):\n",
    "    x = [0,1]\n",
    "    g = []\n",
    "    \n",
    "    for i in range(1,101):\n",
    "        g.append(sum(rd.choices(x,k=n)))\n",
    "        \n",
    "        #print(g)\n",
    "        #print(i,\" : \",sum(rd.choices(x,k=5)))\n",
    "    g0 = np.asarray(g)\n",
    "    #type(g0)\n",
    "    \n",
    "    \n",
    "    \n",
    "    st,cr,p = scipy.stats.anderson(g0, dist = 'norm')\n",
    "    y = ''\n",
    "    if st < cr[2]:\n",
    "        y = 'normal dist'\n",
    "    else:\n",
    "        y = 'not normal dist'\n",
    "    \n",
    "    \n",
    "    plt.hist(g0, bins = 10, rwidth = 0.85)  #bins : 막대기 개수\n",
    "    plt.title('histogram, n = ' + str(n) + \"\\n \"+ str(y))\n",
    "    \n",
    "    #print(scipy.stats.anderson(g0, dist = 'norm'))"
   ]
  },
  {
   "cell_type": "code",
   "execution_count": 15,
   "metadata": {},
   "outputs": [
    {
     "data": {
      "text/plain": [
       "[0, 1, 1, 0, 1]"
      ]
     },
     "execution_count": 15,
     "metadata": {},
     "output_type": "execute_result"
    }
   ],
   "source": [
    "x = [0,1]\n",
    "n = 5\n",
    "rd.choices(x,k=n)"
   ]
  },
  {
   "cell_type": "markdown",
   "metadata": {},
   "source": [
    "* statistic : 검정통계량\n",
    "* critical_values : 유의확률\n",
    "* significance_level : 유의수준(15%, 10%, 5%, 2.5%, 1%)\n",
    "<br>\n",
    "\n",
    "##### critical_values이 5%보다 크면 귀무가설 기각"
   ]
  },
  {
   "cell_type": "markdown",
   "metadata": {},
   "source": [
    "* 모듈 만들기"
   ]
  },
  {
   "cell_type": "code",
   "execution_count": 172,
   "metadata": {},
   "outputs": [
    {
     "name": "stderr",
     "output_type": "stream",
     "text": [
      "[NbConvertApp] Converting notebook chclt.ipynb to python\n",
      "[NbConvertApp] Writing 1244 bytes to chclt.py\n"
     ]
    }
   ],
   "source": [
    "! jupyter nbconvert --to python chclt.ipynb"
   ]
  }
 ],
 "metadata": {
  "kernelspec": {
   "display_name": "Python 3",
   "language": "python",
   "name": "python3"
  },
  "language_info": {
   "codemirror_mode": {
    "name": "ipython",
    "version": 3
   },
   "file_extension": ".py",
   "mimetype": "text/x-python",
   "name": "python",
   "nbconvert_exporter": "python",
   "pygments_lexer": "ipython3",
   "version": "3.7.1"
  }
 },
 "nbformat": 4,
 "nbformat_minor": 2
}
