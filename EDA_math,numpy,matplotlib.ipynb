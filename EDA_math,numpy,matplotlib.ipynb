{
 "cells": [
  {
   "cell_type": "markdown",
   "metadata": {},
   "source": [
    "#### 2019-03-05(화)\n",
    "\n",
    "# 탐색적 데이터분석\n",
    "\n",
    "### 강의시간리포트(70%), 최종과제(30%) \n",
    "### 학습자료 : wolfpack.hnu.ac.kr\n",
    "### 3.14(목) 휴강"
   ]
  },
  {
   "cell_type": "code",
   "execution_count": 4,
   "metadata": {},
   "outputs": [
    {
     "data": {
      "text/plain": [
       "1.7320508075688772"
      ]
     },
     "execution_count": 4,
     "metadata": {},
     "output_type": "execute_result"
    }
   ],
   "source": [
    "import math\n",
    "math.sqrt(3)"
   ]
  },
  {
   "cell_type": "markdown",
   "metadata": {},
   "source": [
    "### 실행창에서 pip install matplotlib 하여 라이브러리를 설치"
   ]
  },
  {
   "cell_type": "code",
   "execution_count": 5,
   "metadata": {},
   "outputs": [],
   "source": [
    "import numpy as np\n",
    "import matplotlib.pyplot as plt"
   ]
  },
  {
   "cell_type": "code",
   "execution_count": 16,
   "metadata": {},
   "outputs": [
    {
     "data": {
      "text/plain": [
       "[<matplotlib.lines.Line2D at 0xc7f9bd0>]"
      ]
     },
     "execution_count": 16,
     "metadata": {},
     "output_type": "execute_result"
    },
    {
     "data": {
      "image/png": "[encoded data removed]",
      "text/plain": [
       "<Figure size 432x288 with 1 Axes>"
      ]
     },
     "metadata": {
      "needs_background": "light"
     },
     "output_type": "display_data"
    }
   ],
   "source": [
    "data = np.random.randn(10000)\n",
    "heights,bins = np.histogram(data,bins=50)\n",
    "heights = heights/float(sum(heights))\n",
    "binMids = bins[:-1] + np.diff(bins)/2.\n",
    "plt.plot(binMids,heights)"
   ]
  },
  {
   "cell_type": "code",
   "execution_count": 17,
   "metadata": {},
   "outputs": [
    {
     "data": {
      "text/plain": [
       "44.610516214991634"
      ]
     },
     "execution_count": 17,
     "metadata": {},
     "output_type": "execute_result"
    }
   ],
   "source": [
    "sum(np.random.randn(10000))"
   ]
  },
  {
   "cell_type": "code",
   "execution_count": 18,
   "metadata": {},
   "outputs": [
    {
     "data": {
      "text/plain": [
       "array([0.0002, 0.    , 0.0002, 0.0004, 0.0012, 0.0014, 0.0025, 0.002 ,\n",
       "       0.0034, 0.0047, 0.007 , 0.0082, 0.0116, 0.0141, 0.0186, 0.0219,\n",
       "       0.0256, 0.0348, 0.0395, 0.043 , 0.05  , 0.0512, 0.054 , 0.061 ,\n",
       "       0.0574, 0.0557, 0.0574, 0.0549, 0.0496, 0.0466, 0.0415, 0.0392,\n",
       "       0.0276, 0.0257, 0.0194, 0.018 , 0.0134, 0.0105, 0.0084, 0.0056,\n",
       "       0.0034, 0.0031, 0.0024, 0.0013, 0.0006, 0.001 , 0.0003, 0.0002,\n",
       "       0.0001, 0.0002])"
      ]
     },
     "execution_count": 18,
     "metadata": {},
     "output_type": "execute_result"
    }
   ],
   "source": [
    "heights"
   ]
  },
  {
   "cell_type": "code",
   "execution_count": 19,
   "metadata": {},
   "outputs": [
    {
     "data": {
      "text/plain": [
       "array([-3.6210305 , -3.47467392, -3.32831733, -3.18196075, -3.03560416,\n",
       "       -2.88924758, -2.74289099, -2.59653441, -2.45017783, -2.30382124,\n",
       "       -2.15746466, -2.01110807, -1.86475149, -1.7183949 , -1.57203832,\n",
       "       -1.42568173, -1.27932515, -1.13296857, -0.98661198, -0.8402554 ,\n",
       "       -0.69389881, -0.54754223, -0.40118564, -0.25482906, -0.10847247,\n",
       "        0.03788411,  0.18424069,  0.33059728,  0.47695386,  0.62331045,\n",
       "        0.76966703,  0.91602362,  1.0623802 ,  1.20873679,  1.35509337,\n",
       "        1.50144995,  1.64780654,  1.79416312,  1.94051971,  2.08687629,\n",
       "        2.23323288,  2.37958946,  2.52594605,  2.67230263,  2.81865921,\n",
       "        2.9650158 ,  3.11137238,  3.25772897,  3.40408555,  3.55044214,\n",
       "        3.69679872])"
      ]
     },
     "execution_count": 19,
     "metadata": {},
     "output_type": "execute_result"
    }
   ],
   "source": [
    "bins"
   ]
  },
  {
   "cell_type": "code",
   "execution_count": 21,
   "metadata": {},
   "outputs": [
    {
     "name": "stdout",
     "output_type": "stream",
     "text": [
      "d:\\\n"
     ]
    }
   ],
   "source": [
    "cd d:/"
   ]
  },
  {
   "cell_type": "code",
   "execution_count": 22,
   "metadata": {},
   "outputs": [],
   "source": [
    "import diablo"
   ]
  },
  {
   "cell_type": "code",
   "execution_count": 4,
   "metadata": {},
   "outputs": [],
   "source": [
    "import diablo2"
   ]
  },
  {
   "cell_type": "code",
   "execution_count": 16,
   "metadata": {},
   "outputs": [],
   "source": [
    "king=diablo2.Amazon()\n",
    "kong=diablo2.Amazon()"
   ]
  },
  {
   "cell_type": "code",
   "execution_count": 8,
   "metadata": {},
   "outputs": [
    {
     "data": {
      "text/plain": [
       "20"
      ]
     },
     "execution_count": 8,
     "metadata": {},
     "output_type": "execute_result"
    }
   ],
   "source": [
    "king.strength"
   ]
  },
  {
   "cell_type": "code",
   "execution_count": 9,
   "metadata": {},
   "outputs": [
    {
     "data": {
      "text/plain": [
       "15"
      ]
     },
     "execution_count": 9,
     "metadata": {},
     "output_type": "execute_result"
    }
   ],
   "source": [
    "kong.energy"
   ]
  },
  {
   "cell_type": "code",
   "execution_count": 11,
   "metadata": {},
   "outputs": [
    {
     "data": {
      "text/plain": [
       "'Jab!!!'"
      ]
     },
     "execution_count": 11,
     "metadata": {},
     "output_type": "execute_result"
    }
   ],
   "source": [
    "kong.attack()"
   ]
  },
  {
   "cell_type": "code",
   "execution_count": 14,
   "metadata": {},
   "outputs": [],
   "source": [
    "kim = kong.attack()"
   ]
  },
  {
   "cell_type": "code",
   "execution_count": 17,
   "metadata": {},
   "outputs": [
    {
     "data": {
      "text/plain": [
       "'Jab!!!'"
      ]
     },
     "execution_count": 17,
     "metadata": {},
     "output_type": "execute_result"
    }
   ],
   "source": [
    "kim"
   ]
  },
  {
   "cell_type": "code",
   "execution_count": 24,
   "metadata": {},
   "outputs": [],
   "source": [
    "test=diablo.Amazon2()"
   ]
  },
  {
   "cell_type": "code",
   "execution_count": 26,
   "metadata": {},
   "outputs": [
    {
     "data": {
      "text/plain": [
       "20"
      ]
     },
     "execution_count": 26,
     "metadata": {},
     "output_type": "execute_result"
    }
   ],
   "source": [
    "test.strength"
   ]
  },
  {
   "cell_type": "code",
   "execution_count": null,
   "metadata": {},
   "outputs": [],
   "source": []
  }
 ],
 "metadata": {
  "kernelspec": {
   "display_name": "Python 3",
   "language": "python",
   "name": "python3"
  },
  "language_info": {
   "codemirror_mode": {
    "name": "ipython",
    "version": 3
   },
   "file_extension": ".py",
   "mimetype": "text/x-python",
   "name": "python",
   "nbconvert_exporter": "python",
   "pygments_lexer": "ipython3",
   "version": "3.7.2"
  }
 },
 "nbformat": 4,
 "nbformat_minor": 2
}
