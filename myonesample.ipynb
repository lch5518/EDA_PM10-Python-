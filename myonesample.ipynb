{
 "cells": [
  {
   "cell_type": "markdown",
   "metadata": {},
   "source": [
    "## EDA"
   ]
  },
  {
   "cell_type": "markdown",
   "metadata": {},
   "source": [
    "평균 이자율 95%의 신뢰구간?<br>\n",
    "세타=뮤 ??<br>\n",
    "P[세타하한<세타<세타상한]=0.95<br>\n"
   ]
  },
  {
   "cell_type": "markdown",
   "metadata": {},
   "source": [
    "<br>\n",
    "신뢰구간 95%를 따른다고 할때\n",
    "\n",
    "표본에서<br>\n",
    "~N(u,시그마/sqrt(n))\n",
    "\n",
    "시그마를 모를때 표본표준편차를 사용\n",
    "\n",
    "* x_bar/(s/sqrt(n)) ~ t(n-1)"
   ]
  },
  {
   "cell_type": "markdown",
   "metadata": {},
   "source": [
    "<br>\n",
    "cdf의 역함수는 ppt"
   ]
  },
  {
   "cell_type": "markdown",
   "metadata": {},
   "source": [
    " *  ㅇ"
   ]
  },
  {
   "cell_type": "code",
   "execution_count": 2,
   "metadata": {},
   "outputs": [
    {
     "name": "stdout",
     "output_type": "stream",
     "text": [
      "['Gender', 'Rate', 'Business', 'Sales', 'Age']\n",
      "몇 번째 변수?1\n",
      "함수방법 (1.2614284675815886, 1.34529517914206)\n",
      "하한 :  1.26292481779976 \n",
      "상한 :  1.3437988289238885\n"
     ]
    }
   ],
   "source": [
    "import pandas as pd\n",
    "import numpy as np\n",
    "import scipy.stats\n",
    "from scipy.stats import norm\n",
    "from scipy.stats import t\n",
    "\n",
    "bank = pd.read_csv('Bank2.csv')\n",
    "print(list(bank))\n",
    "k = int(input('몇 번째 변수?'))\n",
    "bank0 = bank.iloc[:,k]\n",
    "\n",
    "m = np.mean(bank0) #평균\n",
    "st = np.std(bank0) #표준편차\n",
    "n = bank0.shape[0] #데이터 개수\n",
    "\n",
    "print('함수방법',scipy.stats.norm.interval(0.05,loc=m,scale = st))\n",
    "upper = m + t.ppf(0.975,n-1)*st/np.sqrt(n)\n",
    "lower = m - t.ppf(0.975,n-1)*st/np.sqrt(n)\n",
    "print('하한 : ', lower,'\\n상한 : ',upper)\n"
   ]
  },
  {
   "cell_type": "code",
   "execution_count": null,
   "metadata": {},
   "outputs": [],
   "source": []
  }
 ],
 "metadata": {
  "kernelspec": {
   "display_name": "Python 3",
   "language": "python",
   "name": "python3"
  },
  "language_info": {
   "codemirror_mode": {
    "name": "ipython",
    "version": 3
   },
   "file_extension": ".py",
   "mimetype": "text/x-python",
   "name": "python",
   "nbconvert_exporter": "python",
   "pygments_lexer": "ipython3",
   "version": "3.7.1"
  }
 },
 "nbformat": 4,
 "nbformat_minor": 2
}
