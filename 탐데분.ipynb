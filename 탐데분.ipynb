{
 "cells": [
  {
   "cell_type": "code",
   "execution_count": 117,
   "metadata": {},
   "outputs": [],
   "source": [
    "import pandas as pd\n",
    "\n",
    "import numpy as np"
   ]
  },
  {
   "cell_type": "code",
   "execution_count": 51,
   "metadata": {},
   "outputs": [
    {
     "data": {
      "text/plain": [
       "8.761904761904763"
      ]
     },
     "execution_count": 51,
     "metadata": {},
     "output_type": "execute_result"
    }
   ],
   "source": [
    "E = [200*0.5, 200*0.35, 200*0.15]\n",
    "O = [80,80,40]\n",
    "\n",
    "chisq = []\n",
    "for i in range(len(E)):\n",
    "    chisq.append((E[i]-O[i])**2/E[i])\n",
    "    i+=1\n",
    "\n",
    "test = chisq[0] + chisq[1] + chisq[2]\n",
    "test"
   ]
  },
  {
   "cell_type": "code",
   "execution_count": 2,
   "metadata": {},
   "outputs": [],
   "source": [
    "ex = [500/7,500/7,500/7,500/7,500/7,(500/7)*2]"
   ]
  },
  {
   "cell_type": "code",
   "execution_count": 3,
   "metadata": {},
   "outputs": [
    {
     "data": {
      "text/plain": [
       "[71.42857142857143,\n",
       " 71.42857142857143,\n",
       " 71.42857142857143,\n",
       " 71.42857142857143,\n",
       " 71.42857142857143,\n",
       " 142.85714285714286]"
      ]
     },
     "execution_count": 3,
     "metadata": {},
     "output_type": "execute_result"
    }
   ],
   "source": [
    "ex"
   ]
  },
  {
   "cell_type": "markdown",
   "metadata": {},
   "source": [
    "### 2019-03-12"
   ]
  },
  {
   "cell_type": "code",
   "execution_count": 7,
   "metadata": {},
   "outputs": [],
   "source": [
    "x = (1,3,5,7,'이창현')\n",
    "x1 = [1,3,5,7,'이창현']\n",
    "\n",
    "x1\n",
    "\n",
    "type(x)\n",
    "\n",
    "type(x1)\n",
    "\n",
    "x1[0] = 9\n",
    "\n",
    "x1\n",
    "\n",
    "x1[4:5]\n",
    "\n",
    "del x1[2]\n",
    "print(x1)\n",
    "\n",
    "x1.insert(1,'이창현')\n",
    "print(x1)\n",
    "\n",
    "del x1[1]\n",
    "\n",
    "x1\n",
    "\n",
    "x1.insert(2,5)\n",
    "\n",
    "x1\n",
    "\n",
    "sum(x1)\n",
    "\n",
    "print(2*x1)\n",
    "\n",
    "x1+x1\n",
    "\n",
    "ds = np.asarray(x1)\n",
    "\n",
    "type(ds)\n",
    "\n",
    "print(ds)\n",
    "\n",
    "ds * 2\n",
    "\n",
    "ds[1]"
   ]
  },
  {
   "cell_type": "code",
   "execution_count": 3,
   "metadata": {},
   "outputs": [],
   "source": [
    "import random"
   ]
  },
  {
   "cell_type": "code",
   "execution_count": 71,
   "metadata": {},
   "outputs": [
    {
     "data": {
      "text/plain": [
       "array([[ 66,  80,  79,  68,  78, 129]])"
      ]
     },
     "execution_count": 71,
     "metadata": {},
     "output_type": "execute_result"
    }
   ],
   "source": [
    "np.random.multinomial(500,[1/7.]*5 + [2/7.],size=1)"
   ]
  },
  {
   "cell_type": "code",
   "execution_count": 20,
   "metadata": {},
   "outputs": [],
   "source": [
    "si = random.choices([1,2,3,4,5,6,6],k=500)"
   ]
  },
  {
   "cell_type": "code",
   "execution_count": 21,
   "metadata": {},
   "outputs": [
    {
     "name": "stdout",
     "output_type": "stream",
     "text": [
      "[2, 3, 1, 6, 1, 4, 4, 3, 6, 3, 5, 4, 1, 3, 6, 4, 5, 2, 6, 4, 6, 1, 5, 4, 4, 6, 6, 4, 5, 3, 5, 3, 4, 3, 1, 2, 2, 6, 5, 6, 6, 1, 5, 2, 4, 5, 3, 5, 5, 4, 3, 2, 6, 6, 6, 6, 2, 4, 3, 3, 5, 4, 5, 4, 3, 2, 3, 3, 6, 6, 6, 2, 3, 2, 6, 4, 1, 4, 2, 2, 6, 6, 3, 2, 2, 6, 6, 2, 5, 5, 6, 6, 5, 6, 5, 1, 5, 1, 1, 2, 6, 1, 6, 4, 5, 1, 6, 6, 1, 3, 3, 2, 5, 6, 5, 6, 1, 5, 6, 3, 1, 5, 6, 4, 4, 2, 2, 4, 1, 6, 4, 5, 3, 1, 3, 4, 6, 3, 5, 3, 6, 2, 3, 3, 6, 6, 6, 2, 4, 2, 5, 5, 6, 1, 3, 6, 6, 4, 6, 4, 1, 1, 6, 2, 6, 4, 5, 6, 2, 1, 1, 2, 3, 6, 1, 4, 3, 3, 5, 6, 1, 6, 5, 6, 2, 5, 5, 6, 6, 4, 1, 1, 5, 3, 5, 2, 6, 6, 6, 5, 2, 5, 3, 3, 3, 1, 6, 6, 1, 3, 5, 4, 6, 6, 4, 5, 3, 3, 3, 4, 2, 2, 5, 6, 5, 2, 5, 1, 6, 1, 1, 1, 4, 1, 2, 5, 1, 6, 6, 6, 6, 1, 2, 4, 5, 1, 2, 3, 3, 3, 2, 4, 3, 3, 2, 6, 5, 6, 6, 6, 4, 4, 5, 5, 2, 5, 4, 6, 6, 3, 4, 5, 3, 4, 6, 5, 1, 6, 4, 3, 3, 6, 6, 3, 1, 4, 6, 6, 4, 4, 4, 6, 5, 4, 1, 6, 5, 6, 1, 6, 1, 5, 6, 5, 1, 3, 3, 2, 6, 4, 6, 5, 3, 1, 4, 4, 3, 1, 1, 4, 2, 2, 6, 2, 4, 4, 6, 5, 4, 3, 3, 3, 5, 6, 3, 6, 5, 5, 2, 5, 1, 6, 1, 5, 3, 2, 6, 1, 5, 6, 4, 2, 1, 6, 1, 6, 4, 4, 1, 3, 2, 6, 3, 6, 2, 6, 4, 4, 6, 2, 6, 1, 1, 4, 2, 5, 2, 5, 6, 1, 6, 3, 5, 6, 4, 5, 6, 5, 3, 5, 6, 6, 5, 6, 2, 5, 3, 4, 6, 6, 5, 5, 3, 6, 6, 2, 3, 2, 3, 3, 6, 3, 6, 3, 6, 6, 3, 1, 4, 3, 6, 2, 6, 1, 5, 6, 6, 5, 2, 2, 4, 6, 6, 5, 2, 2, 5, 5, 2, 6, 6, 1, 6, 4, 6, 4, 3, 6, 6, 1, 3, 6, 3, 4, 5, 3, 4, 6, 4, 3, 3, 2, 3, 1, 6, 6, 2, 1, 4, 6, 6, 4, 1, 1, 4, 4, 1, 6, 2, 3, 4, 1, 6, 4, 4, 6, 2, 2, 1, 6, 4, 5, 1, 5, 5, 5, 5, 6, 4, 6]\n"
     ]
    }
   ],
   "source": [
    "print(si)"
   ]
  },
  {
   "cell_type": "markdown",
   "metadata": {},
   "source": [
    "6이 나올 확율이 다른 수의 두배인 주사위를 X = 5 번 시행중 6의 개수는? x = 0,1,2,3,4,5 <br>\n",
    "* f(x)~B(n=5, p=2/7)"
   ]
  },
  {
   "cell_type": "code",
   "execution_count": 22,
   "metadata": {},
   "outputs": [
    {
     "name": "stdout",
     "output_type": "stream",
     "text": [
      "[1, 1, 1, 1, 1, 2, 0, 2, 1, 0, 3, 1, 0, 2, 2, 0, 2, 2, 3, 0, 2, 2, 1, 2, 1, 1, 0, 1, 2, 2, 1, 3, 2, 1, 1, 1, 2, 2, 0, 3, 0, 2, 2, 0, 1, 1, 0, 3, 1, 0, 0, 4, 0, 2, 1, 1, 2, 2, 1, 3, 1, 1, 1, 0, 1, 1, 1, 1, 1, 2, 1, 1, 2, 2, 1, 1, 2, 1, 3, 2, 2, 0, 3, 1, 2, 2, 2, 1, 3, 2, 1, 1, 1, 2, 1, 1, 1, 2, 0, 2]\n"
     ]
    }
   ],
   "source": [
    "cn = list(range(0,100))\n",
    "\n",
    "for i in range(1,101):\n",
    "    cn[i-1] = si[5*(i-1):i*5].count(6)\n",
    "\n",
    "\n",
    "print(cn)"
   ]
  },
  {
   "cell_type": "code",
   "execution_count": 23,
   "metadata": {},
   "outputs": [
    {
     "name": "stdout",
     "output_type": "stream",
     "text": [
      "16\n",
      "42\n",
      "32\n",
      "9\n",
      "1\n",
      "0\n"
     ]
    }
   ],
   "source": [
    "for i in range(6):\n",
    "    print(cn.count(i))\n"
   ]
  },
  {
   "cell_type": "code",
   "execution_count": null,
   "metadata": {},
   "outputs": [],
   "source": []
  }
 ],
 "metadata": {
  "kernelspec": {
   "display_name": "Python 3",
   "language": "python",
   "name": "python3"
  },
  "language_info": {
   "codemirror_mode": {
    "name": "ipython",
    "version": 3
   },
   "file_extension": ".py",
   "mimetype": "text/x-python",
   "name": "python",
   "nbconvert_exporter": "python",
   "pygments_lexer": "ipython3",
   "version": "3.6.5"
  }
 },
 "nbformat": 4,
 "nbformat_minor": 2
}
