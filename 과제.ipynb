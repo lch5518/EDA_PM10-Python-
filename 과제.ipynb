{
 "cells": [
  {
   "cell_type": "code",
   "execution_count": 1,
   "metadata": {},
   "outputs": [],
   "source": [
    "import pandas as pd\n",
    "import numpy as np\n",
    "import scipy.stats\n",
    "from scipy.stats import t"
   ]
  },
  {
   "cell_type": "markdown",
   "metadata": {},
   "source": [
    "* http://wolfpack.hnu.ac.kr/Stat_Notes/adv_stat/LinearModel/data/SMSA.csv"
   ]
  },
  {
   "cell_type": "code",
   "execution_count": 2,
   "metadata": {},
   "outputs": [],
   "source": [
    "def chuni():\n",
    "    url = input('url 주소 입력:')\n",
    "    ds = pd.read_csv(url)\n",
    "    print(list(ds))\n",
    "    p = int(input('몇 번째 변수??'))\n",
    "    x = ds.iloc[:,p]\n",
    "    #print(x)\n",
    "    \n",
    "    m = np.mean(x)\n",
    "    st = np.std(x)\n",
    "    n = x.shape[0]\n",
    "    #print(x)\n",
    "    cl = float(input('신뢰수준??(%)'))\n",
    "    tcv = scipy.stats.norm.ppf(cl/100)\n",
    "    upper = m + t.cdf(tcv,n-1)*st/np.sqrt(n)\n",
    "    lower = m - t.cdf(tcv,n-1)*st/np.sqrt(n)\n",
    "    print(cl,'% 신뢰수준\\n','하한 :',lower,\"\\n상한 : \",upper)\n",
    "    mu = float(input('귀무가설 모평균 = '))\n",
    "    ts = abs((x[1]-mu)/(st/np.sqrt(n)))\n",
    "    pv = (1-t.cdf(abs(-1.82),n-1))*2\n",
    "    print('검정통계량=',ts,'\\n유의확률 = ',pv)\n",
    "    sl = float(input('유의수준 = '))\n",
    "    if pv<=sl :\n",
    "        print('귀무가설 기각')\n",
    "    else :\n",
    "        print('귀무가설 채택')"
   ]
  },
  {
   "cell_type": "code",
   "execution_count": 3,
   "metadata": {},
   "outputs": [
    {
     "name": "stdout",
     "output_type": "stream",
     "text": [
      "url 주소 입력:http://wolfpack.hnu.ac.kr/Stat_Notes/adv_stat/LinearModel/data/SMSA.csv\n",
      "['city', 'Mortality', 'JanTemp', 'JulyTemp', 'RelHum', 'Rain', 'Education', 'PopDensity', 'NonWhite', 'WC', 'pop/house', 'income', 'HCPot', 'NOxPot', 'S02Pot']\n",
      "몇 번째 변수??1\n",
      "신뢰수준??(%)95\n",
      "95.0 % 신뢰수준\n",
      " 하한 : 932.8029322953221 \n",
      "상한 :  947.8944010380114\n",
      "귀무가설 모평균 = 90\n",
      "검정통계량= 113.97994476352345 \n",
      "유의확률 =  0.07383276825940932\n",
      "유의수준 = 0.05\n",
      "귀무가설 채택\n"
     ]
    }
   ],
   "source": [
    "chuni()"
   ]
  }
 ],
 "metadata": {
  "kernelspec": {
   "display_name": "Python 3",
   "language": "python",
   "name": "python3"
  },
  "language_info": {
   "codemirror_mode": {
    "name": "ipython",
    "version": 3
   },
   "file_extension": ".py",
   "mimetype": "text/x-python",
   "name": "python",
   "nbconvert_exporter": "python",
   "pygments_lexer": "ipython3",
   "version": "3.7.1"
  }
 },
 "nbformat": 4,
 "nbformat_minor": 2
}
