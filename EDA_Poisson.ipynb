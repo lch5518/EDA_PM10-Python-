{
 "cells": [
  {
   "cell_type": "markdown",
   "metadata": {},
   "source": [
    "## 탐색적 데이터 분석\n",
    "### 포아송분포"
   ]
  },
  {
   "cell_type": "markdown",
   "metadata": {},
   "source": [
    "다음은 한남대학교 정문을 통과하는 차량의 수가 Poisson 분포를 따르는지 알아보\n",
    "기 위하여 1분마다 차량 통과 회수를 300회 조사하였다. 아래 자료를 이용하여\n",
    "Poisson 분포를 따르는지 검정하시오. (유의수준=0.05)"
   ]
  },
  {
   "cell_type": "markdown",
   "metadata": {},
   "source": [
    "| - | - | - | - | - | - | - | - | - | \n",
    "| :---: | :---: | :---: | :---: | :---: | :--: | - | - | - |\n",
    "| 분 | 0 | 1 | 2 | 3 | 4 | 5 | 6 | 7 | \n",
    "| 관측빈도 | 20 | 54 | 74 | 67 | 47 | 25 | 11 | 4 | \n"
   ]
  },
  {
   "cell_type": "code",
   "execution_count": 2,
   "metadata": {},
   "outputs": [],
   "source": [
    "import numpy as np\n",
    "import pandas as pd\n",
    "import scipy.stats\n",
    "import math"
   ]
  },
  {
   "cell_type": "code",
   "execution_count": 3,
   "metadata": {},
   "outputs": [],
   "source": [
    "x = np.asarray([20,54,74,67,45,25,11,4])\n",
    "n = np.asarray([0,1,2,3,4,5,6,7])\n",
    "lm = sum(n*x)/sum(x)"
   ]
  },
  {
   "cell_type": "code",
   "execution_count": 16,
   "metadata": {},
   "outputs": [
    {
     "data": {
      "text/plain": [
       "array([3, 1, 2, 1, 1, 1, 4])"
      ]
     },
     "execution_count": 16,
     "metadata": {},
     "output_type": "execute_result"
    }
   ],
   "source": [
    "np.random.poisson(lm,7)"
   ]
  },
  {
   "cell_type": "code",
   "execution_count": 5,
   "metadata": {},
   "outputs": [
    {
     "name": "stdout",
     "output_type": "stream",
     "text": [
      "[0.06902177 0.1845182  0.24663932 0.21978304 0.14688833 0.07853629\n",
      " 0.03499228 0.01336372]\n",
      "[20.70653066 55.35545863 73.99179637 65.93491188 44.06649944 23.56088837\n",
      " 10.49768471  4.00911578]\n"
     ]
    }
   ],
   "source": [
    "p = list(range(0,8))\n",
    "for i in range(8):\n",
    "    p[i] = (math.exp(-lm)*lm**i)/math.factorial(i)\n",
    "\n",
    "p = np.asarray(p)\n",
    "e = sum(x)*p\n",
    "print(p)\n",
    "print(e)"
   ]
  },
  {
   "cell_type": "code",
   "execution_count": 25,
   "metadata": {},
   "outputs": [
    {
     "data": {
      "text/plain": [
       "4.009115777860504"
      ]
     },
     "execution_count": 25,
     "metadata": {},
     "output_type": "execute_result"
    }
   ],
   "source": [
    "e[7]"
   ]
  },
  {
   "cell_type": "code",
   "execution_count": 30,
   "metadata": {},
   "outputs": [
    {
     "data": {
      "text/plain": [
       "2.0727115555243065e-05"
      ]
     },
     "execution_count": 30,
     "metadata": {},
     "output_type": "execute_result"
    }
   ],
   "source": [
    "(x[7]-e[7])**2/e[7]"
   ]
  },
  {
   "cell_type": "code",
   "execution_count": 20,
   "metadata": {},
   "outputs": [],
   "source": [
    "T = list(range(0,8))\n",
    "for i in range(8):\n",
    "    T[i] = (x[i]-e[i])**2/e[i]"
   ]
  },
  {
   "cell_type": "code",
   "execution_count": 28,
   "metadata": {},
   "outputs": [
    {
     "data": {
      "text/plain": [
       "[0.02410763934066284,\n",
       " 0.03319036900875493,\n",
       " 9.095543160200145e-07,\n",
       " 0.01720503873081651,\n",
       " 0.019775187782093768,\n",
       " 0.08790170659544036,\n",
       " 0.02403583862127866,\n",
       " 2.0727115555243065e-05]"
      ]
     },
     "execution_count": 28,
     "metadata": {},
     "output_type": "execute_result"
    }
   ],
   "source": [
    "T"
   ]
  },
  {
   "cell_type": "code",
   "execution_count": 22,
   "metadata": {},
   "outputs": [
    {
     "data": {
      "text/plain": [
       "0.20623741674891832"
      ]
     },
     "execution_count": 22,
     "metadata": {},
     "output_type": "execute_result"
    }
   ],
   "source": [
    "sum(T)"
   ]
  },
  {
   "cell_type": "code",
   "execution_count": 35,
   "metadata": {},
   "outputs": [
    {
     "data": {
      "text/plain": [
       "0.9998308156007222"
      ]
     },
     "execution_count": 35,
     "metadata": {},
     "output_type": "execute_result"
    }
   ],
   "source": [
    "p_values = 1-scipy.stats.chi2.cdf(sum(T),6)\n",
    "p_values"
   ]
  },
  {
   "cell_type": "code",
   "execution_count": null,
   "metadata": {},
   "outputs": [],
   "source": [
    "if(p_values > 0.95):\n",
    "    print(\"귀무가설 \")"
   ]
  }
 ],
 "metadata": {
  "kernelspec": {
   "display_name": "Python 3",
   "language": "python",
   "name": "python3"
  },
  "language_info": {
   "codemirror_mode": {
    "name": "ipython",
    "version": 3
   },
   "file_extension": ".py",
   "mimetype": "text/x-python",
   "name": "python",
   "nbconvert_exporter": "python",
   "pygments_lexer": "ipython3",
   "version": "3.7.1"
  }
 },
 "nbformat": 4,
 "nbformat_minor": 2
}
