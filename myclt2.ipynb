{
 "cells": [
  {
   "cell_type": "code",
   "execution_count": 6,
   "metadata": {},
   "outputs": [],
   "source": [
    "import scipy.stats\n",
    "import numpy as np\n",
    "import matplotlib.pyplot as plt\n",
    "\n",
    "\n",
    "def gamclt(n,a,b):\n",
    "    x = []\n",
    "    for i in range(1,101):\n",
    "        x.append(np.mean(scipy.stats.gamma.rvs(a = a,scale = b,size = n)))\n",
    "    x0 = np.asarray(x)\n",
    "   \n",
    "    \n",
    "    st,cr,p = scipy.stats.anderson(x0, dist = 'norm')\n",
    "    y = ''\n",
    "    if st < cr[2]:\n",
    "        y = 'normal dist'\n",
    "    else:\n",
    "        y = 'not normal dist'\n",
    "    plt.hist(x0, bins = 10, rwidth = 0.85)  #bins : 막대기 개수\n",
    "    plt.title('histogram, n = ' + str(n) +  \"\\n \"+ str(y))"
   ]
  },
  {
   "cell_type": "code",
   "execution_count": 10,
   "metadata": {},
   "outputs": [
    {
     "name": "stderr",
     "output_type": "stream",
     "text": [
      "[NbConvertApp] Converting notebook myclt2.ipynb to python\n",
      "[NbConvertApp] Writing 636 bytes to myclt2.py\n"
     ]
    }
   ],
   "source": [
    "! jupyter nbconvert --to python myclt2.ipynb"
   ]
  }
 ],
 "metadata": {
  "kernelspec": {
   "display_name": "Python 3",
   "language": "python",
   "name": "python3"
  },
  "language_info": {
   "codemirror_mode": {
    "name": "ipython",
    "version": 3
   },
   "file_extension": ".py",
   "mimetype": "text/x-python",
   "name": "python",
   "nbconvert_exporter": "python",
   "pygments_lexer": "ipython3",
   "version": "3.7.1"
  }
 },
 "nbformat": 4,
 "nbformat_minor": 2
}
