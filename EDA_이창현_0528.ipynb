{
  "nbformat": 4,
  "nbformat_minor": 0,
  "metadata": {
    "colab": {
      "name": "EDA_이창현_0528.ipynb",
      "version": "0.3.2",
      "provenance": [],
      "collapsed_sections": []
    },
    "kernelspec": {
      "name": "python3",
      "display_name": "Python 3"
    },
    "accelerator": "GPU"
  },
  "cells": [
    {
      "cell_type": "code",
      "metadata": {
        "id": "efPogL6boKa3",
        "colab_type": "code",
        "outputId": "a8ae81f4-3975-44d4-a18d-5b9b82e93484",
        "colab": {
          "base_uri": "https://localhost:8080/",
          "height": 125
        }
      },
      "source": [
        "from google.colab import drive\n",
        "drive.mount('/content/gdrive')"
      ],
      "execution_count": 1,
      "outputs": [
        {
          "output_type": "stream",
          "text": [
            "Go to this URL in a browser: https://accounts.google.com/o/oauth2/auth?client_id=947318989803-6bn6qk8qdgf4n4g3pfee6491hc0brc4i.apps.googleusercontent.com&redirect_uri=urn%3Aietf%3Awg%3Aoauth%3A2.0%3Aoob&scope=email%20https%3A%2F%2Fwww.googleapis.com%2Fauth%2Fdocs.test%20https%3A%2F%2Fwww.googleapis.com%2Fauth%2Fdrive%20https%3A%2F%2Fwww.googleapis.com%2Fauth%2Fdrive.photos.readonly%20https%3A%2F%2Fwww.googleapis.com%2Fauth%2Fpeopleapi.readonly&response_type=code\n",
            "\n",
            "Enter your authorization code:\n",
            "··········\n",
            "Mounted at /content/gdrive\n"
          ],
          "name": "stdout"
        }
      ]
    },
    {
      "cell_type": "code",
      "metadata": {
        "id": "QLTdHo8SofMF",
        "colab_type": "code",
        "outputId": "64f10806-72d0-4b9b-9da3-17ef75e37eb2",
        "colab": {
          "base_uri": "https://localhost:8080/",
          "height": 660
        }
      },
      "source": [
        "import pandas as pd\n",
        "df = pd.read_csv(\"/content/gdrive/My Drive/EDA_이창현/mise_fin.csv\",encoding = 'ms949')\n",
        "df.head(3)"
      ],
      "execution_count": 2,
      "outputs": [
        {
          "output_type": "execute_result",
          "data": {
            "text/html": [
              "<div>\n",
              "<style scoped>\n",
              "    .dataframe tbody tr th:only-of-type {\n",
              "        vertical-align: middle;\n",
              "    }\n",
              "\n",
              "    .dataframe tbody tr th {\n",
              "        vertical-align: top;\n",
              "    }\n",
              "\n",
              "    .dataframe thead th {\n",
              "        text-align: right;\n",
              "    }\n",
              "</style>\n",
              "<table border=\"1\" class=\"dataframe\">\n",
              "  <thead>\n",
              "    <tr style=\"text-align: right;\">\n",
              "      <th></th>\n",
              "      <th>Unnamed: 0</th>\n",
              "      <th>시도</th>\n",
              "      <th>측정일시</th>\n",
              "      <th>Unnamed: 0.1</th>\n",
              "      <th>CO</th>\n",
              "      <th>NO2</th>\n",
              "      <th>O3</th>\n",
              "      <th>PM10</th>\n",
              "      <th>PM25</th>\n",
              "      <th>SO2</th>\n",
              "      <th>망</th>\n",
              "      <th>주소</th>\n",
              "      <th>지역</th>\n",
              "      <th>측정소명</th>\n",
              "      <th>측정소코드</th>\n",
              "      <th>연도</th>\n",
              "      <th>월</th>\n",
              "      <th>일</th>\n",
              "      <th>시간</th>\n",
              "      <th>PM10group</th>\n",
              "      <th>PM25group</th>\n",
              "      <th>날짜</th>\n",
              "      <th>날짜2</th>\n",
              "      <th>요일</th>\n",
              "      <th>주말여부</th>\n",
              "    </tr>\n",
              "  </thead>\n",
              "  <tbody>\n",
              "    <tr>\n",
              "      <th>0</th>\n",
              "      <td>0</td>\n",
              "      <td>광주</td>\n",
              "      <td>2016010111</td>\n",
              "      <td>307954</td>\n",
              "      <td>1.5</td>\n",
              "      <td>0.046</td>\n",
              "      <td>0.024</td>\n",
              "      <td>84.0</td>\n",
              "      <td>65.0</td>\n",
              "      <td>0.006</td>\n",
              "      <td>NaN</td>\n",
              "      <td>광주 서구 상무자유로 170</td>\n",
              "      <td>광주 서구</td>\n",
              "      <td>치평동</td>\n",
              "      <td>324155</td>\n",
              "      <td>2016</td>\n",
              "      <td>1</td>\n",
              "      <td>1</td>\n",
              "      <td>11</td>\n",
              "      <td>1.0</td>\n",
              "      <td>1.0</td>\n",
              "      <td>20160101</td>\n",
              "      <td>2016-01-01</td>\n",
              "      <td>4</td>\n",
              "      <td>평일</td>\n",
              "    </tr>\n",
              "    <tr>\n",
              "      <th>1</th>\n",
              "      <td>1</td>\n",
              "      <td>광주</td>\n",
              "      <td>2016010211</td>\n",
              "      <td>307978</td>\n",
              "      <td>1.5</td>\n",
              "      <td>0.058</td>\n",
              "      <td>0.030</td>\n",
              "      <td>83.0</td>\n",
              "      <td>54.0</td>\n",
              "      <td>0.005</td>\n",
              "      <td>NaN</td>\n",
              "      <td>광주 서구 상무자유로 170</td>\n",
              "      <td>광주 서구</td>\n",
              "      <td>치평동</td>\n",
              "      <td>324155</td>\n",
              "      <td>2016</td>\n",
              "      <td>1</td>\n",
              "      <td>2</td>\n",
              "      <td>11</td>\n",
              "      <td>1.0</td>\n",
              "      <td>1.0</td>\n",
              "      <td>20160102</td>\n",
              "      <td>2016-01-02</td>\n",
              "      <td>5</td>\n",
              "      <td>주말</td>\n",
              "    </tr>\n",
              "    <tr>\n",
              "      <th>2</th>\n",
              "      <td>2</td>\n",
              "      <td>광주</td>\n",
              "      <td>2016010311</td>\n",
              "      <td>308002</td>\n",
              "      <td>2.2</td>\n",
              "      <td>0.058</td>\n",
              "      <td>0.012</td>\n",
              "      <td>104.0</td>\n",
              "      <td>57.0</td>\n",
              "      <td>0.007</td>\n",
              "      <td>NaN</td>\n",
              "      <td>광주 서구 상무자유로 170</td>\n",
              "      <td>광주 서구</td>\n",
              "      <td>치평동</td>\n",
              "      <td>324155</td>\n",
              "      <td>2016</td>\n",
              "      <td>1</td>\n",
              "      <td>3</td>\n",
              "      <td>11</td>\n",
              "      <td>1.0</td>\n",
              "      <td>1.0</td>\n",
              "      <td>20160103</td>\n",
              "      <td>2016-01-03</td>\n",
              "      <td>6</td>\n",
              "      <td>주말</td>\n",
              "    </tr>\n",
              "  </tbody>\n",
              "</table>\n",
              "</div>"
            ],
            "text/plain": [
              "   Unnamed: 0  시도        측정일시  Unnamed: 0.1  ...        날짜         날짜2  요일  주말여부\n",
              "0           0  광주  2016010111        307954  ...  20160101  2016-01-01   4    평일\n",
              "1           1  광주  2016010211        307978  ...  20160102  2016-01-02   5    주말\n",
              "2           2  광주  2016010311        308002  ...  20160103  2016-01-03   6    주말\n",
              "\n",
              "[3 rows x 25 columns]"
            ]
          },
          "metadata": {
            "tags": []
          },
          "execution_count": 2
        }
      ]
    },
    {
      "cell_type": "code",
      "metadata": {
        "id": "eDF-HshLorhx",
        "colab_type": "code",
        "outputId": "601ce3dd-1c2b-4925-a91e-8909ab0335c5",
        "colab": {
          "base_uri": "https://localhost:8080/",
          "height": 545
        }
      },
      "source": [
        "df.info()"
      ],
      "execution_count": 3,
      "outputs": [
        {
          "output_type": "stream",
          "text": [
            "<class 'pandas.core.frame.DataFrame'>\n",
            "RangeIndex: 7672 entries, 0 to 7671\n",
            "Data columns (total 25 columns):\n",
            "Unnamed: 0      7672 non-null int64\n",
            "시도              7672 non-null object\n",
            "측정일시            7672 non-null int64\n",
            "Unnamed: 0.1    7672 non-null int64\n",
            "CO              7672 non-null float64\n",
            "NO2             7672 non-null float64\n",
            "O3              7672 non-null float64\n",
            "PM10            7672 non-null float64\n",
            "PM25            7671 non-null float64\n",
            "SO2             7672 non-null float64\n",
            "망               1288 non-null object\n",
            "주소              7672 non-null object\n",
            "지역              7672 non-null object\n",
            "측정소명            7672 non-null object\n",
            "측정소코드           7672 non-null int64\n",
            "연도              7672 non-null int64\n",
            "월               7672 non-null int64\n",
            "일               7672 non-null int64\n",
            "시간              7672 non-null int64\n",
            "PM10group       7672 non-null float64\n",
            "PM25group       7671 non-null float64\n",
            "날짜              7672 non-null int64\n",
            "날짜2             7672 non-null object\n",
            "요일              7672 non-null int64\n",
            "주말여부            7672 non-null object\n",
            "dtypes: float64(8), int64(10), object(7)\n",
            "memory usage: 1.5+ MB\n"
          ],
          "name": "stdout"
        }
      ]
    },
    {
      "cell_type": "code",
      "metadata": {
        "id": "vMyqARzCJuZu",
        "colab_type": "code",
        "colab": {}
      },
      "source": [
        "date = df['측정일시'].astype(str)\n",
        "df['연도월'] = date.str.slice(start=0, stop=6).astype(str)"
      ],
      "execution_count": 0,
      "outputs": []
    },
    {
      "cell_type": "code",
      "metadata": {
        "id": "m9t7J0UqKMsB",
        "colab_type": "code",
        "colab": {
          "base_uri": "https://localhost:8080/",
          "height": 660
        },
        "outputId": "ff7254af-071f-43e2-c75d-21f161bc1d5f"
      },
      "source": [
        "df.head(3)"
      ],
      "execution_count": 6,
      "outputs": [
        {
          "output_type": "execute_result",
          "data": {
            "text/html": [
              "<div>\n",
              "<style scoped>\n",
              "    .dataframe tbody tr th:only-of-type {\n",
              "        vertical-align: middle;\n",
              "    }\n",
              "\n",
              "    .dataframe tbody tr th {\n",
              "        vertical-align: top;\n",
              "    }\n",
              "\n",
              "    .dataframe thead th {\n",
              "        text-align: right;\n",
              "    }\n",
              "</style>\n",
              "<table border=\"1\" class=\"dataframe\">\n",
              "  <thead>\n",
              "    <tr style=\"text-align: right;\">\n",
              "      <th></th>\n",
              "      <th>Unnamed: 0</th>\n",
              "      <th>시도</th>\n",
              "      <th>측정일시</th>\n",
              "      <th>Unnamed: 0.1</th>\n",
              "      <th>CO</th>\n",
              "      <th>NO2</th>\n",
              "      <th>O3</th>\n",
              "      <th>PM10</th>\n",
              "      <th>PM25</th>\n",
              "      <th>SO2</th>\n",
              "      <th>망</th>\n",
              "      <th>주소</th>\n",
              "      <th>지역</th>\n",
              "      <th>측정소명</th>\n",
              "      <th>측정소코드</th>\n",
              "      <th>연도</th>\n",
              "      <th>월</th>\n",
              "      <th>일</th>\n",
              "      <th>시간</th>\n",
              "      <th>PM10group</th>\n",
              "      <th>PM25group</th>\n",
              "      <th>날짜</th>\n",
              "      <th>날짜2</th>\n",
              "      <th>요일</th>\n",
              "      <th>주말여부</th>\n",
              "      <th>연도월</th>\n",
              "    </tr>\n",
              "  </thead>\n",
              "  <tbody>\n",
              "    <tr>\n",
              "      <th>0</th>\n",
              "      <td>0</td>\n",
              "      <td>광주</td>\n",
              "      <td>2016010111</td>\n",
              "      <td>307954</td>\n",
              "      <td>1.5</td>\n",
              "      <td>0.046</td>\n",
              "      <td>0.024</td>\n",
              "      <td>84.0</td>\n",
              "      <td>65.0</td>\n",
              "      <td>0.006</td>\n",
              "      <td>NaN</td>\n",
              "      <td>광주 서구 상무자유로 170</td>\n",
              "      <td>광주 서구</td>\n",
              "      <td>치평동</td>\n",
              "      <td>324155</td>\n",
              "      <td>2016</td>\n",
              "      <td>1</td>\n",
              "      <td>1</td>\n",
              "      <td>11</td>\n",
              "      <td>1.0</td>\n",
              "      <td>1.0</td>\n",
              "      <td>20160101</td>\n",
              "      <td>2016-01-01</td>\n",
              "      <td>4</td>\n",
              "      <td>평일</td>\n",
              "      <td>201601</td>\n",
              "    </tr>\n",
              "    <tr>\n",
              "      <th>1</th>\n",
              "      <td>1</td>\n",
              "      <td>광주</td>\n",
              "      <td>2016010211</td>\n",
              "      <td>307978</td>\n",
              "      <td>1.5</td>\n",
              "      <td>0.058</td>\n",
              "      <td>0.030</td>\n",
              "      <td>83.0</td>\n",
              "      <td>54.0</td>\n",
              "      <td>0.005</td>\n",
              "      <td>NaN</td>\n",
              "      <td>광주 서구 상무자유로 170</td>\n",
              "      <td>광주 서구</td>\n",
              "      <td>치평동</td>\n",
              "      <td>324155</td>\n",
              "      <td>2016</td>\n",
              "      <td>1</td>\n",
              "      <td>2</td>\n",
              "      <td>11</td>\n",
              "      <td>1.0</td>\n",
              "      <td>1.0</td>\n",
              "      <td>20160102</td>\n",
              "      <td>2016-01-02</td>\n",
              "      <td>5</td>\n",
              "      <td>주말</td>\n",
              "      <td>201601</td>\n",
              "    </tr>\n",
              "    <tr>\n",
              "      <th>2</th>\n",
              "      <td>2</td>\n",
              "      <td>광주</td>\n",
              "      <td>2016010311</td>\n",
              "      <td>308002</td>\n",
              "      <td>2.2</td>\n",
              "      <td>0.058</td>\n",
              "      <td>0.012</td>\n",
              "      <td>104.0</td>\n",
              "      <td>57.0</td>\n",
              "      <td>0.007</td>\n",
              "      <td>NaN</td>\n",
              "      <td>광주 서구 상무자유로 170</td>\n",
              "      <td>광주 서구</td>\n",
              "      <td>치평동</td>\n",
              "      <td>324155</td>\n",
              "      <td>2016</td>\n",
              "      <td>1</td>\n",
              "      <td>3</td>\n",
              "      <td>11</td>\n",
              "      <td>1.0</td>\n",
              "      <td>1.0</td>\n",
              "      <td>20160103</td>\n",
              "      <td>2016-01-03</td>\n",
              "      <td>6</td>\n",
              "      <td>주말</td>\n",
              "      <td>201601</td>\n",
              "    </tr>\n",
              "  </tbody>\n",
              "</table>\n",
              "</div>"
            ],
            "text/plain": [
              "   Unnamed: 0  시도        측정일시  Unnamed: 0.1  ...         날짜2  요일  주말여부     연도월\n",
              "0           0  광주  2016010111        307954  ...  2016-01-01   4    평일  201601\n",
              "1           1  광주  2016010211        307978  ...  2016-01-02   5    주말  201601\n",
              "2           2  광주  2016010311        308002  ...  2016-01-03   6    주말  201601\n",
              "\n",
              "[3 rows x 26 columns]"
            ]
          },
          "metadata": {
            "tags": []
          },
          "execution_count": 6
        }
      ]
    },
    {
      "cell_type": "code",
      "metadata": {
        "id": "rxhmsJQmpqxa",
        "colab_type": "code",
        "outputId": "2eff379d-ed66-486a-d604-dcb7c006512f",
        "colab": {
          "base_uri": "https://localhost:8080/",
          "height": 87
        }
      },
      "source": [
        "df.columns"
      ],
      "execution_count": 5,
      "outputs": [
        {
          "output_type": "execute_result",
          "data": {
            "text/plain": [
              "Index(['Unnamed: 0', '시도', '측정일시', 'Unnamed: 0.1', 'CO', 'NO2', 'O3', 'PM10',\n",
              "       'PM25', 'SO2', '망', '주소', '지역', '측정소명', '측정소코드', '연도', '월', '일', '시간',\n",
              "       'PM10group', 'PM25group', '날짜', '날짜2', '요일', '주말여부', '연도월'],\n",
              "      dtype='object')"
            ]
          },
          "metadata": {
            "tags": []
          },
          "execution_count": 5
        }
      ]
    },
    {
      "cell_type": "code",
      "metadata": {
        "id": "LsFTS1rFo2m_",
        "colab_type": "code",
        "colab": {}
      },
      "source": [
        "df0 = df[['시도','연도월','연도','월','일','PM10','PM25']]"
      ],
      "execution_count": 0,
      "outputs": []
    },
    {
      "cell_type": "code",
      "metadata": {
        "id": "7-_QKxiRrwSe",
        "colab_type": "code",
        "outputId": "bb5ba953-0764-448c-89a0-d28b971ae154",
        "colab": {
          "base_uri": "https://localhost:8080/",
          "height": 298
        }
      },
      "source": [
        "df0.loc[df0['PM10']>80,'PM10그룹']='BAD_10'\n",
        "df0.loc[df0['PM10']<=80,'PM10그룹']='GOOD_10'\n",
        "df0.loc[df0['PM10']>150,'PM10그룹']='VeryBad_10'\n",
        "df0['PM10그룹'].value_counts()\n",
        "\n",
        "df0.loc[df0['PM25']>35,'PM25그룹']='BAD_25'\n",
        "df0.loc[df0['PM25']<=35,'PM25그룹']='GOOD_25'\n",
        "df0.loc[df0['PM25']>75,'PM25그룹']='VeryBad_25'\n",
        "df0['PM25그룹'].value_counts()"
      ],
      "execution_count": 8,
      "outputs": [
        {
          "output_type": "stream",
          "text": [
            "/usr/local/lib/python3.6/dist-packages/pandas/core/indexing.py:362: SettingWithCopyWarning: \n",
            "A value is trying to be set on a copy of a slice from a DataFrame.\n",
            "Try using .loc[row_indexer,col_indexer] = value instead\n",
            "\n",
            "See the caveats in the documentation: http://pandas.pydata.org/pandas-docs/stable/indexing.html#indexing-view-versus-copy\n",
            "  self.obj[key] = _infer_fill_value(value)\n",
            "/usr/local/lib/python3.6/dist-packages/pandas/core/indexing.py:543: SettingWithCopyWarning: \n",
            "A value is trying to be set on a copy of a slice from a DataFrame.\n",
            "Try using .loc[row_indexer,col_indexer] = value instead\n",
            "\n",
            "See the caveats in the documentation: http://pandas.pydata.org/pandas-docs/stable/indexing.html#indexing-view-versus-copy\n",
            "  self.obj[item] = s\n"
          ],
          "name": "stderr"
        },
        {
          "output_type": "execute_result",
          "data": {
            "text/plain": [
              "GOOD_25       4080\n",
              "BAD_25        3028\n",
              "VeryBad_25     563\n",
              "Name: PM25그룹, dtype: int64"
            ]
          },
          "metadata": {
            "tags": []
          },
          "execution_count": 8
        }
      ]
    },
    {
      "cell_type": "code",
      "metadata": {
        "id": "gBPMFz5oqO5-",
        "colab_type": "code",
        "outputId": "8502fa35-3124-4668-9c50-d23015152b50",
        "colab": {
          "base_uri": "https://localhost:8080/",
          "height": 136
        }
      },
      "source": [
        "df0.head(3)"
      ],
      "execution_count": 12,
      "outputs": [
        {
          "output_type": "execute_result",
          "data": {
            "text/html": [
              "<div>\n",
              "<style scoped>\n",
              "    .dataframe tbody tr th:only-of-type {\n",
              "        vertical-align: middle;\n",
              "    }\n",
              "\n",
              "    .dataframe tbody tr th {\n",
              "        vertical-align: top;\n",
              "    }\n",
              "\n",
              "    .dataframe thead th {\n",
              "        text-align: right;\n",
              "    }\n",
              "</style>\n",
              "<table border=\"1\" class=\"dataframe\">\n",
              "  <thead>\n",
              "    <tr style=\"text-align: right;\">\n",
              "      <th></th>\n",
              "      <th>시도</th>\n",
              "      <th>연도월</th>\n",
              "      <th>연도</th>\n",
              "      <th>월</th>\n",
              "      <th>일</th>\n",
              "      <th>PM10</th>\n",
              "      <th>PM25</th>\n",
              "      <th>PM10그룹</th>\n",
              "      <th>PM25그룹</th>\n",
              "    </tr>\n",
              "  </thead>\n",
              "  <tbody>\n",
              "    <tr>\n",
              "      <th>0</th>\n",
              "      <td>광주</td>\n",
              "      <td>201601</td>\n",
              "      <td>2016</td>\n",
              "      <td>1</td>\n",
              "      <td>1</td>\n",
              "      <td>84.0</td>\n",
              "      <td>65.0</td>\n",
              "      <td>BAD_10</td>\n",
              "      <td>BAD_25</td>\n",
              "    </tr>\n",
              "    <tr>\n",
              "      <th>1</th>\n",
              "      <td>광주</td>\n",
              "      <td>201601</td>\n",
              "      <td>2016</td>\n",
              "      <td>1</td>\n",
              "      <td>2</td>\n",
              "      <td>83.0</td>\n",
              "      <td>54.0</td>\n",
              "      <td>BAD_10</td>\n",
              "      <td>BAD_25</td>\n",
              "    </tr>\n",
              "    <tr>\n",
              "      <th>2</th>\n",
              "      <td>광주</td>\n",
              "      <td>201601</td>\n",
              "      <td>2016</td>\n",
              "      <td>1</td>\n",
              "      <td>3</td>\n",
              "      <td>104.0</td>\n",
              "      <td>57.0</td>\n",
              "      <td>BAD_10</td>\n",
              "      <td>BAD_25</td>\n",
              "    </tr>\n",
              "  </tbody>\n",
              "</table>\n",
              "</div>"
            ],
            "text/plain": [
              "   시도     연도월    연도  월  일   PM10  PM25  PM10그룹  PM25그룹\n",
              "0  광주  201601  2016  1  1   84.0  65.0  BAD_10  BAD_25\n",
              "1  광주  201601  2016  1  2   83.0  54.0  BAD_10  BAD_25\n",
              "2  광주  201601  2016  1  3  104.0  57.0  BAD_10  BAD_25"
            ]
          },
          "metadata": {
            "tags": []
          },
          "execution_count": 12
        }
      ]
    },
    {
      "cell_type": "code",
      "metadata": {
        "id": "-Teym8F4q33m",
        "colab_type": "code",
        "colab": {}
      },
      "source": [
        "df0.to_csv('/content/gdrive/My Drive/EDA_이창현/today2.csv') "
      ],
      "execution_count": 0,
      "outputs": []
    },
    {
      "cell_type": "code",
      "metadata": {
        "id": "yw1U53d4xtlJ",
        "colab_type": "code",
        "colab": {}
      },
      "source": [
        "import rpy2\n",
        "%load_ext rpy2.ipython"
      ],
      "execution_count": 0,
      "outputs": []
    },
    {
      "cell_type": "code",
      "metadata": {
        "id": "113tu2kutCtg",
        "colab_type": "code",
        "outputId": "3b45ca69-9e80-43d6-f97a-23c5e2f1e0c1",
        "colab": {
          "base_uri": "https://localhost:8080/",
          "height": 140
        }
      },
      "source": [
        "%%R\n",
        "today <- read.csv('/content/gdrive/My Drive/EDA_이창현/today2.csv')\n",
        "head(today)"
      ],
      "execution_count": 17,
      "outputs": [
        {
          "output_type": "display_data",
          "data": {
            "text/plain": [
              "  X 시도 연도월 연도 월 일 PM10 PM25   PM10그룹   PM25그룹\n",
              "1 0 광주 201601 2016  1  1   84   65     BAD_10     BAD_25\n",
              "2 1 광주 201601 2016  1  2   83   54     BAD_10     BAD_25\n",
              "3 2 광주 201601 2016  1  3  104   57     BAD_10     BAD_25\n",
              "4 3 광주 201601 2016  1  4  168  127 VeryBad_10 VeryBad_25\n",
              "5 4 광주 201601 2016  1  5   47   27    GOOD_10    GOOD_25\n",
              "6 5 광주 201601 2016  1  6   92   40     BAD_10     BAD_25\n"
            ]
          },
          "metadata": {
            "tags": []
          }
        }
      ]
    },
    {
      "cell_type": "code",
      "metadata": {
        "id": "EQtW6F7zu1d9",
        "colab_type": "code",
        "outputId": "3fc00bd4-4af0-4799-eb09-6fa946b67593",
        "colab": {
          "base_uri": "https://localhost:8080/",
          "height": 140
        }
      },
      "source": [
        "%%R\n",
        "today0 <- today[today$시도=='대전' & today$연도=='2018',]\n",
        "head(today0)"
      ],
      "execution_count": 22,
      "outputs": [
        {
          "output_type": "display_data",
          "data": {
            "text/plain": [
              "        X 시도 연도월 연도 월 일 PM10 PM25 PM10그룹 PM25그룹\n",
              "2924 2923 대전 201801 2018  1  1   62   32  GOOD_10  GOOD_25\n",
              "2925 2924 대전 201801 2018  1  2   96   75   BAD_10   BAD_25\n",
              "2926 2925 대전 201801 2018  1  3   85   29   BAD_10  GOOD_25\n",
              "2927 2926 대전 201801 2018  1  4  101   41   BAD_10   BAD_25\n",
              "2928 2927 대전 201801 2018  1  5   91   51   BAD_10   BAD_25\n",
              "2929 2928 대전 201801 2018  1  6   70   41  GOOD_10   BAD_25\n"
            ]
          },
          "metadata": {
            "tags": []
          }
        }
      ]
    },
    {
      "cell_type": "code",
      "metadata": {
        "id": "Y_3waeYkML7U",
        "colab_type": "code",
        "colab": {}
      },
      "source": [
        "%%R\n",
        "today0$PM10그룹 <- factor(today0$PM10그룹)\n",
        "today0$PM25그룹 <- factor(today0$PM25그룹)"
      ],
      "execution_count": 0,
      "outputs": []
    },
    {
      "cell_type": "code",
      "metadata": {
        "id": "dKJ2GeCavXlV",
        "colab_type": "code",
        "colab": {}
      },
      "source": [
        "%%R\n",
        "table1 <- with(today0,table(연도월,PM10그룹))\n",
        "table2 <- with(today0,table(연도월,PM25그룹))\n",
        "table0 <- cbind(table1,table2)"
      ],
      "execution_count": 0,
      "outputs": []
    },
    {
      "cell_type": "code",
      "metadata": {
        "id": "_5tPGF_UwDzC",
        "colab_type": "code",
        "outputId": "2bd55cd3-7822-4289-d310-67cdd4108552",
        "colab": {
          "base_uri": "https://localhost:8080/",
          "height": 140
        }
      },
      "source": [
        "%%R\n",
        "head(table0)"
      ],
      "execution_count": 26,
      "outputs": [
        {
          "output_type": "display_data",
          "data": {
            "text/plain": [
              "       BAD_10 GOOD_10 VeryBad_10 BAD_25 GOOD_25 VeryBad_25\n",
              "201801     12      17          2     14      12          5\n",
              "201802     12      14          2     13      12          3\n",
              "201803     11      17          3     11      14          6\n",
              "201804     14      14          2     12      18          0\n",
              "201805      9      22          0      9      22          0\n",
              "201806      5      25          0      6      24          0\n"
            ]
          },
          "metadata": {
            "tags": []
          }
        }
      ]
    },
    {
      "cell_type": "code",
      "metadata": {
        "id": "O7IOme3hx_ls",
        "colab_type": "code",
        "colab": {}
      },
      "source": [
        "#%%R\n",
        "#table0 <- table0[,-4]"
      ],
      "execution_count": 0,
      "outputs": []
    },
    {
      "cell_type": "code",
      "metadata": {
        "id": "tc0Mk7WXmsUB",
        "colab_type": "code",
        "outputId": "74e760e9-a2ca-488a-d3c8-9cda7316f9af",
        "colab": {
          "base_uri": "https://localhost:8080/",
          "height": 474
        }
      },
      "source": [
        "%%R\n",
        "install.packages('ca')\n",
        "library(ca)"
      ],
      "execution_count": 27,
      "outputs": [
        {
          "output_type": "stream",
          "text": [
            "/usr/local/lib/python3.6/dist-packages/rpy2/rinterface/__init__.py:146: RRuntimeWarning: Installing package into ‘/usr/local/lib/R/site-library’\n",
            "(as ‘lib’ is unspecified)\n",
            "\n",
            "  warnings.warn(x, RRuntimeWarning)\n",
            "/usr/local/lib/python3.6/dist-packages/rpy2/rinterface/__init__.py:146: RRuntimeWarning: trying URL 'https://cran.rstudio.com/src/contrib/ca_0.71.tar.gz'\n",
            "\n",
            "  warnings.warn(x, RRuntimeWarning)\n",
            "/usr/local/lib/python3.6/dist-packages/rpy2/rinterface/__init__.py:146: RRuntimeWarning: Content type 'application/x-gzip'\n",
            "  warnings.warn(x, RRuntimeWarning)\n",
            "/usr/local/lib/python3.6/dist-packages/rpy2/rinterface/__init__.py:146: RRuntimeWarning:  length 46919 bytes (45 KB)\n",
            "\n",
            "  warnings.warn(x, RRuntimeWarning)\n",
            "/usr/local/lib/python3.6/dist-packages/rpy2/rinterface/__init__.py:146: RRuntimeWarning: =\n",
            "  warnings.warn(x, RRuntimeWarning)\n",
            "/usr/local/lib/python3.6/dist-packages/rpy2/rinterface/__init__.py:146: RRuntimeWarning: \n",
            "\n",
            "  warnings.warn(x, RRuntimeWarning)\n",
            "/usr/local/lib/python3.6/dist-packages/rpy2/rinterface/__init__.py:146: RRuntimeWarning: downloaded 45 KB\n",
            "\n",
            "\n",
            "  warnings.warn(x, RRuntimeWarning)\n",
            "/usr/local/lib/python3.6/dist-packages/rpy2/rinterface/__init__.py:146: RRuntimeWarning: \n",
            "  warnings.warn(x, RRuntimeWarning)\n",
            "/usr/local/lib/python3.6/dist-packages/rpy2/rinterface/__init__.py:146: RRuntimeWarning: The downloaded source packages are in\n",
            "\t‘/tmp/RtmpHeA9Bn/downloaded_packages’\n",
            "  warnings.warn(x, RRuntimeWarning)\n"
          ],
          "name": "stderr"
        }
      ]
    },
    {
      "cell_type": "code",
      "metadata": {
        "id": "BRCnaEPgmuSh",
        "colab_type": "code",
        "outputId": "b244afd9-3f98-4205-9c99-74eeb2420159",
        "colab": {
          "base_uri": "https://localhost:8080/",
          "height": 497
        }
      },
      "source": [
        "%%R\n",
        "fit=ca(table0)\n",
        "plot(fit)"
      ],
      "execution_count": 28,
      "outputs": [
        {
          "output_type": "display_data",
          "data": {
            "image/png": "[encoded data removed]"
          },
          "metadata": {
            "tags": []
          }
        }
      ]
    },
    {
      "cell_type": "code",
      "metadata": {
        "id": "pW2BFuLOm05c",
        "colab_type": "code",
        "outputId": "ba2c8a3d-123e-4ff1-d150-4aebcf1e8935",
        "colab": {
          "base_uri": "https://localhost:8080/",
          "height": 246
        }
      },
      "source": [
        "%%R\n",
        "table0"
      ],
      "execution_count": 0,
      "outputs": [
        {
          "output_type": "display_data",
          "data": {
            "text/plain": [
              "   BAD_10 GOOD_10 VeryBad_10 BAD_25 GOOD_25 VeryBad_25\n",
              "1      12      17          2     14      12          5\n",
              "2      12      14          2     13      12          3\n",
              "3      11      17          3     11      14          6\n",
              "4      14      14          2     12      18          0\n",
              "5       9      22          0      9      22          0\n",
              "6       5      25          0      6      24          0\n",
              "7       1      30          0      6      25          0\n",
              "8       0      31          0      1      30          0\n",
              "9       0      30          0      0      30          0\n",
              "10      4      27          0      7      23          1\n",
              "11     17      11          2     25       3          2\n",
              "12     16      12          3     16      12          3\n"
            ]
          },
          "metadata": {
            "tags": []
          }
        }
      ]
    },
    {
      "cell_type": "code",
      "metadata": {
        "id": "FiK2cSJzm3N6",
        "colab_type": "code",
        "outputId": "9936387d-34bb-46c6-e73b-22dc437de288",
        "colab": {
          "base_uri": "https://localhost:8080/",
          "height": 122
        }
      },
      "source": [
        "%%R\n",
        "test <- with(today,table(today$PM25그룹,today$PM10그룹))\n",
        "head(test)"
      ],
      "execution_count": 0,
      "outputs": [
        {
          "output_type": "display_data",
          "data": {
            "text/plain": [
              "            \n",
              "             BAD_10 GOOD_10 VeryBad_10\n",
              "                  0       1          0\n",
              "  BAD_25       1735    1190        103\n",
              "  GOOD_25       340    3717         23\n",
              "  VeryBad_25    363       0        200\n"
            ]
          },
          "metadata": {
            "tags": []
          }
        }
      ]
    },
    {
      "cell_type": "code",
      "metadata": {
        "id": "g81M8meznun9",
        "colab_type": "code",
        "colab": {}
      },
      "source": [
        "%%R\n",
        "install.packages('ca')\n",
        "library(ca)\n",
        "my_ca <- function(name,year){    \n",
        "    today <- read.csv('/content/gdrive/My Drive/EDA_이창현/today.csv')\n",
        "    today0 <- today[today$시도==name & today$연도==year,]\n",
        "    today0$PM10그룹 <- factor(today0$PM10그룹)\n",
        "    today0$PM25그룹 <- factor(today0$PM25그룹)\n",
        "    table1 <- with(today0,table(월,PM10그룹))\n",
        "    table2 <- with(today0,table(월,PM25그룹))\n",
        "    table0 <- cbind(table1,table2)\n",
        "    fit=ca(table0)\n",
        "    plot(fit,main=paste(name,year, 'plot'))\n",
        "}"
      ],
      "execution_count": 0,
      "outputs": []
    },
    {
      "cell_type": "code",
      "metadata": {
        "id": "hki3PEqKNUA6",
        "colab_type": "code",
        "colab": {}
      },
      "source": [
        "%%R\n",
        "my_ca2 <- function(name){    \n",
        "    today <- read.csv('/content/gdrive/My Drive/EDA_이창현/today2.csv')\n",
        "    today0 <- today[today$시도==name,]\n",
        "    today0$PM10그룹 <- factor(today0$PM10그룹)\n",
        "    today0$PM25그룹 <- factor(today0$PM25그룹)\n",
        "    table1 <- with(today0,table(연도월,PM10그룹))\n",
        "    table2 <- with(today0,table(연도월,PM25그룹))\n",
        "    table0 <- cbind(table1,table2)\n",
        "    fit=ca(table0)\n",
        "    plot(fit,main=paste(name, 'plot'))\n",
        "}"
      ],
      "execution_count": 0,
      "outputs": []
    },
    {
      "cell_type": "code",
      "metadata": {
        "id": "lcEAzJSvO-5D",
        "colab_type": "code",
        "colab": {
          "base_uri": "https://localhost:8080/",
          "height": 497
        },
        "outputId": "0d29bf9e-765f-450f-8263-348359e93550"
      },
      "source": [
        "%%R\n",
        "my_ca2('대전')\n"
      ],
      "execution_count": 44,
      "outputs": [
        {
          "output_type": "display_data",
          "data": {
            "image/png": "[encoded data removed]"
          },
          "metadata": {
            "tags": []
          }
        }
      ]
    },
    {
      "cell_type": "code",
      "metadata": {
        "id": "NyZ_aLV960vu",
        "colab_type": "code",
        "outputId": "1ab21eba-1afa-4bad-b1e9-00a4c703c6fd",
        "colab": {
          "base_uri": "https://localhost:8080/",
          "height": 1457
        }
      },
      "source": [
        "%%R\n",
        "my_ca('대전',2016)\n",
        "my_ca('대전',2017)\n",
        "my_ca('대전',2018)"
      ],
      "execution_count": 40,
      "outputs": [
        {
          "output_type": "display_data",
          "data": {
            "image/png": "[encoded data removed]"
          },
          "metadata": {
            "tags": []
          }
        },
        {
          "output_type": "display_data",
          "data": {
            "image/png": "[encoded data removed]"
          },
          "metadata": {
            "tags": []
          }
        },
        {
          "output_type": "display_data",
          "data": {
            "image/png": "[encoded data removed]"
          },
          "metadata": {
            "tags": []
          }
        }
      ]
    }
  ]
}