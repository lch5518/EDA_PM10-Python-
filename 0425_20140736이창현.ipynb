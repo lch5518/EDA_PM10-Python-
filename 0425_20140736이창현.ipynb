{
 "cells": [
  {
   "cell_type": "code",
   "execution_count": 200,
   "metadata": {},
   "outputs": [
    {
     "name": "stdout",
     "output_type": "stream",
     "text": [
      "95 % 신뢰구간이 모수를 포함한 개수: 97\n"
     ]
    }
   ],
   "source": [
    "import numpy as np\n",
    "import scipy.stats as st\n",
    "\n",
    "\n",
    "def ch(a,s,cl):\n",
    "    x = []\n",
    "    for i in np.arange(0,100):\n",
    "        a = 2; s = 0.5; n = 100; cl = 95\n",
    "        y = gamma.rvs(a=a,scale=s, size=n)\n",
    "        des = st.describe(y)\n",
    "        lower = des.mean - st.t.ppf((cl+(100-cl)/2)/100,des.nobs-1)*np.sqrt(des.variance)/np.sqrt(des.nobs-1)\n",
    "        upper = des.mean + st.t.ppf((cl+(100-cl)/2)/100,des.nobs-1)*np.sqrt(des.variance)/np.sqrt(des.nobs-1)\n",
    "        if lower < a*s < upper :\n",
    "            x.append(1)\n",
    "        else :\n",
    "            x.append(0)\n",
    "\n",
    "    print(str(cl),'% 신뢰구간이 모수를 포함한 개수:', str(sum(x)))\n",
    "\n",
    "ch(2,0.5,95)"
   ]
  }
 ],
 "metadata": {
  "kernelspec": {
   "display_name": "Python 3",
   "language": "python",
   "name": "python3"
  },
  "language_info": {
   "codemirror_mode": {
    "name": "ipython",
    "version": 3
   },
   "file_extension": ".py",
   "mimetype": "text/x-python",
   "name": "python",
   "nbconvert_exporter": "python",
   "pygments_lexer": "ipython3",
   "version": "3.7.1"
  }
 },
 "nbformat": 4,
 "nbformat_minor": 2
}
