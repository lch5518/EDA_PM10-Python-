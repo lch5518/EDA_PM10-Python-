{
 "cells": [
  {
   "cell_type": "markdown",
   "metadata": {},
   "source": [
    "### 2019-03-19 탐색적 데이터 분석"
   ]
  },
  {
   "cell_type": "markdown",
   "metadata": {},
   "source": [
    "남녀 출산 비율이 0.5인지 알아보기 위하여 아이들이 3명이 1,000가구를 대상으로 남자 아이의 수를 조사하여 다음 표를 얻었다."
   ]
  },
  {
   "cell_type": "markdown",
   "metadata": {},
   "source": [
    "H0 : p = 0.5 <br>"
   ]
  },
  {
   "cell_type": "markdown",
   "metadata": {},
   "source": [
    "p_hat~N(0.5,sqrt((0.5*0.5)/3000))"
   ]
  },
  {
   "cell_type": "markdown",
   "metadata": {},
   "source": [
    "| - | - | - | - | - |\n",
    "| :---: | :---: | :---: | :---: | :---: |\n",
    "| 남자 아이 수 | 0 | 1 | 2 | 3 |\n",
    "| 빈도 | 100 | 350 | 400 | 150 |"
   ]
  },
  {
   "cell_type": "markdown",
   "metadata": {},
   "source": [
    "|남자 아이 수| 0 | 1 | 2 | 3 |\n",
    "|빈도| 100 | 350 | 400 | 150 |"
   ]
  },
  {
   "cell_type": "code",
   "execution_count": 23,
   "metadata": {},
   "outputs": [],
   "source": [
    "import numpy as np\n",
    "import random\n",
    "import scipy.stats"
   ]
  },
  {
   "cell_type": "code",
   "execution_count": 45,
   "metadata": {},
   "outputs": [
    {
     "name": "stdout",
     "output_type": "stream",
     "text": [
      "귀무가설 기각\n"
     ]
    }
   ],
   "source": [
    "x = np.asarray([0,1,2,3])\n",
    "f = np.asarray([100,350,400,150])\n",
    "p_hat = sum(x*f)/3000\n",
    "p_value = 1-scipy.stats.norm(0.5,np.sqrt((0.5*0.5)/3000)).cdf(0.53)\n",
    "\n",
    "if p_value <= 0.05:\n",
    "    print(\"귀무가설 기각\")\n",
    "else :\n",
    "    print(\"귀무가설 채택\")"
   ]
  },
  {
   "cell_type": "markdown",
   "metadata": {},
   "source": [
    "pmf <br>\n",
    "pdf <br>\n",
    "cdf <br>\n",
    "ppf "
   ]
  },
  {
   "cell_type": "code",
   "execution_count": 120,
   "metadata": {},
   "outputs": [
    {
     "name": "stdout",
     "output_type": "stream",
     "text": [
      "0.003968500465847957\n",
      "귀무가설 기각\n"
     ]
    }
   ],
   "source": [
    "# e : 기대빈도\n",
    "e = scipy.stats.binom.pmf(x,3,0.5)*1000\n",
    "\n",
    "T = sum(((f-e)**2)/e)\n",
    "\n",
    "e\n",
    "\n",
    "T\n",
    "\n",
    "p_values = 1-scipy.stats.chi2.cdf(T,3)\n",
    "print(p_values)\n",
    "\n",
    "if p_value <= 0.05:\n",
    "    print(\"귀무가설 기각\")\n",
    "else :\n",
    "    print(\"귀무가설 채택\")"
   ]
  },
  {
   "cell_type": "code",
   "execution_count": null,
   "metadata": {},
   "outputs": [],
   "source": []
  }
 ],
 "metadata": {
  "kernelspec": {
   "display_name": "Python 3",
   "language": "python",
   "name": "python3"
  },
  "language_info": {
   "codemirror_mode": {
    "name": "ipython",
    "version": 3
   },
   "file_extension": ".py",
   "mimetype": "text/x-python",
   "name": "python",
   "nbconvert_exporter": "python",
   "pygments_lexer": "ipython3",
   "version": "3.7.2"
  }
 },
 "nbformat": 4,
 "nbformat_minor": 2
}
